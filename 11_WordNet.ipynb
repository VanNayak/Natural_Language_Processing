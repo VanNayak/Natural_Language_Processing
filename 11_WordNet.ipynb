{
  "nbformat": 4,
  "nbformat_minor": 0,
  "metadata": {
    "colab": {
      "provenance": []
    },
    "kernelspec": {
      "name": "python3",
      "display_name": "Python 3"
    },
    "language_info": {
      "name": "python"
    }
  },
  "cells": [
    {
      "cell_type": "code",
      "execution_count": null,
      "metadata": {
        "id": "H_CjpxMmYmBO"
      },
      "outputs": [],
      "source": []
    },
    {
      "cell_type": "markdown",
      "source": [
        "WordNet\n",
        "\n",
        "* WordNet is a large lexical dtabase that groups words in the English language into sets of synonyms, called synsets.\n",
        "\n",
        "* These synsets capture the different senses or meanings that a word can have.\n",
        "\n",
        "* It is essentially a vast electronic thesarus combined with elements of a dictionary, designed to provide a deeper understanding of word releationships."
      ],
      "metadata": {
        "id": "FrkFpiRpYoy7"
      }
    },
    {
      "cell_type": "markdown",
      "source": [
        "* Semantic Relations: WordNet connects synsets through various semantic relations, including:\n",
        "\n",
        "* Hypernymy / Hyponymy: A hierarchical relationship where a general term (hypernym) is linked to more specific terms (hyponyms) that fall under it. For example, \"animal\" is a hypernym of \"dog\" and \"cat\" (hyponyms).\n",
        "\n",
        "* Meronymy / Holonymy: A part-whole relationship where a part (meornym) is linked to the whole it belongs to (holonym). For example, \"wheel\" is a meronym of \"car\" (holonym)."
      ],
      "metadata": {
        "id": "N5vJ8f03aJKS"
      }
    },
    {
      "cell_type": "code",
      "source": [
        "# Install Libraries\n",
        "import nltk\n",
        "nltk.download('wordnet')"
      ],
      "metadata": {
        "colab": {
          "base_uri": "https://localhost:8080/"
        },
        "id": "nQ4_-tpZY-wl",
        "outputId": "e84c4efa-cc31-4158-a2b0-42728dbb6d0c"
      },
      "execution_count": 1,
      "outputs": [
        {
          "output_type": "stream",
          "name": "stderr",
          "text": [
            "[nltk_data] Downloading package wordnet to /root/nltk_data...\n"
          ]
        },
        {
          "output_type": "execute_result",
          "data": {
            "text/plain": [
              "True"
            ]
          },
          "metadata": {},
          "execution_count": 1
        }
      ]
    },
    {
      "cell_type": "code",
      "source": [
        "from nltk.corpus import wordnet"
      ],
      "metadata": {
        "id": "CzzNlXUQeQ8k"
      },
      "execution_count": 2,
      "outputs": []
    },
    {
      "cell_type": "code",
      "source": [
        "x = wordnet.synsets('create')"
      ],
      "metadata": {
        "id": "UcQaGBhgeUMI"
      },
      "execution_count": 3,
      "outputs": []
    },
    {
      "cell_type": "code",
      "source": [
        "x"
      ],
      "metadata": {
        "colab": {
          "base_uri": "https://localhost:8080/"
        },
        "id": "WoIU3OPMeZUU",
        "outputId": "f7f89ddb-e0d5-4805-9d03-4efb170bf1da"
      },
      "execution_count": 4,
      "outputs": [
        {
          "output_type": "execute_result",
          "data": {
            "text/plain": [
              "[Synset('make.v.03'),\n",
              " Synset('create.v.02'),\n",
              " Synset('create.v.03'),\n",
              " Synset('create.v.04'),\n",
              " Synset('create.v.05'),\n",
              " Synset('produce.v.02')]"
            ]
          },
          "metadata": {},
          "execution_count": 4
        }
      ]
    },
    {
      "cell_type": "code",
      "source": [
        "synonyms = set()\n",
        "\n",
        "for word in wordnet.synsets('create'):\n",
        "  synonyms.add(word.lemmas()[0].name())"
      ],
      "metadata": {
        "id": "cWeQCg6pfRWA"
      },
      "execution_count": 5,
      "outputs": []
    },
    {
      "cell_type": "code",
      "source": [
        "synonyms"
      ],
      "metadata": {
        "colab": {
          "base_uri": "https://localhost:8080/"
        },
        "id": "qCt4-NVCfe2V",
        "outputId": "fa771317-a07b-402d-ad9c-b85cb6109023"
      },
      "execution_count": 6,
      "outputs": [
        {
          "output_type": "execute_result",
          "data": {
            "text/plain": [
              "{'create', 'make', 'produce'}"
            ]
          },
          "metadata": {},
          "execution_count": 6
        }
      ]
    },
    {
      "cell_type": "code",
      "source": [
        "wordnet.synsets('create')[0].lemmas()[0].name()"
      ],
      "metadata": {
        "colab": {
          "base_uri": "https://localhost:8080/",
          "height": 35
        },
        "id": "O9xsxTRIfioc",
        "outputId": "b4948103-2a0a-419d-a91d-af75ecc55c32"
      },
      "execution_count": 7,
      "outputs": [
        {
          "output_type": "execute_result",
          "data": {
            "text/plain": [
              "'make'"
            ],
            "application/vnd.google.colaboratory.intrinsic+json": {
              "type": "string"
            }
          },
          "metadata": {},
          "execution_count": 7
        }
      ]
    },
    {
      "cell_type": "code",
      "source": [
        "synonyms = set()\n",
        "\n",
        "for word in wordnet.synsets('post'):\n",
        "  synonyms.add(word.lemmas()[0].name())"
      ],
      "metadata": {
        "id": "VYkQh1OwgVQz"
      },
      "execution_count": 8,
      "outputs": []
    },
    {
      "cell_type": "code",
      "source": [
        "synonyms"
      ],
      "metadata": {
        "colab": {
          "base_uri": "https://localhost:8080/"
        },
        "id": "Ohymxaa1gg1-",
        "outputId": "519909cd-f380-4387-ec01-752fbef505b6"
      },
      "execution_count": 9,
      "outputs": [
        {
          "output_type": "execute_result",
          "data": {
            "text/plain": [
              "{'Post', 'mail', 'military_post', 'position', 'post', 'stake', 'station'}"
            ]
          },
          "metadata": {},
          "execution_count": 9
        }
      ]
    },
    {
      "cell_type": "markdown",
      "source": [
        "#### Extract definition and meaning from wordnet"
      ],
      "metadata": {
        "id": "aXbeaIoLgmvW"
      }
    },
    {
      "cell_type": "code",
      "source": [
        "synset = wordnet.synsets('post')\n",
        "print('Word and Type: ' + synset[0].name())\n",
        "print('Synonym: ' + synset[0].lemmas()[0].name())\n",
        "print('Definition: ' + synset[0].definition())\n",
        "print('Example: ' + str(synset[0].examples()))"
      ],
      "metadata": {
        "colab": {
          "base_uri": "https://localhost:8080/"
        },
        "id": "dzmrFzkBgpEk",
        "outputId": "a3f56eef-0420-46f9-9b5b-3e70131b77c0"
      },
      "execution_count": 10,
      "outputs": [
        {
          "output_type": "stream",
          "name": "stdout",
          "text": [
            "Word and Type: post.n.01\n",
            "Synonym: post\n",
            "Definition: the position where someone (as a guard or sentry) stands or is assigned to stand\n",
            "Example: ['a soldier manned the entrance post', 'a sentry station']\n"
          ]
        }
      ]
    },
    {
      "cell_type": "code",
      "source": [
        "synset = wordnet.synsets('beautiful')\n",
        "print('Word and Type: ' + synset[0].name())\n",
        "print('Synonym: ' + synset[0].lemmas()[0].name())\n",
        "print('Definition: ' + synset[0].definition())\n",
        "print('Example: ' + str(synset[0].examples()))"
      ],
      "metadata": {
        "colab": {
          "base_uri": "https://localhost:8080/"
        },
        "id": "fObRtspShVN2",
        "outputId": "412562c2-1f37-4b30-ccda-c254cec6f860"
      },
      "execution_count": 14,
      "outputs": [
        {
          "output_type": "stream",
          "name": "stdout",
          "text": [
            "Word and Type: beautiful.a.01\n",
            "Synonym: beautiful\n",
            "Definition: delighting the senses or exciting intellectual or emotional admiration\n",
            "Example: ['a beautiful child', 'beautiful country', 'a beautiful painting', 'a beautiful theory', 'a beautiful party']\n"
          ]
        }
      ]
    },
    {
      "cell_type": "code",
      "source": [
        "synset = wordnet.synsets('rhetoric')\n",
        "print('Word and Type: ' + synset[0].name())\n",
        "print('Synonym: ' + synset[0].lemmas()[0].name())\n",
        "print('Definition: ' + synset[0].definition())\n",
        "print('Example: ' + str(synset[0].examples()))"
      ],
      "metadata": {
        "colab": {
          "base_uri": "https://localhost:8080/"
        },
        "id": "fnvJQslehbKj",
        "outputId": "5ac76f17-7e70-4d02-ca4a-d85b395cb202"
      },
      "execution_count": 12,
      "outputs": [
        {
          "output_type": "stream",
          "name": "stdout",
          "text": [
            "Word and Type: rhetoric.n.01\n",
            "Synonym: rhetoric\n",
            "Definition: using language effectively to please or persuade\n",
            "Example: []\n"
          ]
        }
      ]
    },
    {
      "cell_type": "code",
      "source": [
        "# find all the related meaning entries for a word\n",
        "for word in wordnet.synsets('sound'):\n",
        "  print(word.name())"
      ],
      "metadata": {
        "colab": {
          "base_uri": "https://localhost:8080/"
        },
        "id": "GAmLntVEibRA",
        "outputId": "32f793f2-b922-473c-e5ab-c113e61e7034"
      },
      "execution_count": 19,
      "outputs": [
        {
          "output_type": "stream",
          "name": "stdout",
          "text": [
            "sound.n.01\n",
            "sound.n.02\n",
            "sound.n.03\n",
            "sound.n.04\n",
            "audio.n.01\n",
            "phone.n.02\n",
            "strait.n.01\n",
            "sound.n.08\n",
            "sound.v.01\n",
            "sound.v.02\n",
            "sound.v.03\n",
            "sound.v.04\n",
            "voice.v.02\n",
            "sound.v.06\n",
            "fathom.v.02\n",
            "sound.a.01\n",
            "healthy.s.04\n",
            "sound.a.03\n",
            "good.s.17\n",
            "reasoned.s.01\n",
            "legal.s.03\n",
            "sound.s.07\n",
            "heavy.s.26\n",
            "sound.s.09\n"
          ]
        }
      ]
    },
    {
      "cell_type": "code",
      "source": [
        "# filter out only the verbs\n",
        "for word in wordnet.synsets('sound', pos='v'):\n",
        "  print(word.name())"
      ],
      "metadata": {
        "colab": {
          "base_uri": "https://localhost:8080/"
        },
        "id": "Do8Hhl2Vir30",
        "outputId": "177b1431-8e04-4060-9abe-2431ec776e19"
      },
      "execution_count": 25,
      "outputs": [
        {
          "output_type": "stream",
          "name": "stdout",
          "text": [
            "sound.v.01\n",
            "sound.v.02\n",
            "sound.v.03\n",
            "sound.v.04\n",
            "voice.v.02\n",
            "sound.v.06\n",
            "fathom.v.02\n"
          ]
        }
      ]
    },
    {
      "cell_type": "code",
      "source": [
        "# filter out only the noun\n",
        "for word in wordnet.synsets('sound', pos='n'):\n",
        "  print(word.name())"
      ],
      "metadata": {
        "colab": {
          "base_uri": "https://localhost:8080/"
        },
        "id": "xM-vnvYEi4B9",
        "outputId": "dae9716d-a161-47b2-cd0a-6ab2f7c21c4c"
      },
      "execution_count": 26,
      "outputs": [
        {
          "output_type": "stream",
          "name": "stdout",
          "text": [
            "sound.n.01\n",
            "sound.n.02\n",
            "sound.n.03\n",
            "sound.n.04\n",
            "audio.n.01\n",
            "phone.n.02\n",
            "strait.n.01\n",
            "sound.n.08\n"
          ]
        }
      ]
    },
    {
      "cell_type": "code",
      "source": [
        "# Read a word from the user and print all meanings of it\n",
        "# Read a word from the user and print the noun meaings of it"
      ],
      "metadata": {
        "id": "lFqMUXLcjYKB"
      },
      "execution_count": null,
      "outputs": []
    },
    {
      "cell_type": "code",
      "source": [
        "inp_txt = input(\"Enter a word: \")\n",
        "\n",
        "# print all meanings\n",
        "print(\"\\nAll meanings: \")\n",
        "for word in wordnet.synsets(inp_txt):\n",
        "  print(word.name())\n",
        "\n",
        "# print all noun meanings\n",
        "print(\"\\n\\nNoun meanings: \")\n",
        "for word in wordnet.synsets(inp_txt, pos='n'):\n",
        "  print(word.name())"
      ],
      "metadata": {
        "colab": {
          "base_uri": "https://localhost:8080/"
        },
        "id": "8thQuys6jm04",
        "outputId": "6e212fd3-4aa9-4acb-cf43-a8ff5becc013"
      },
      "execution_count": 38,
      "outputs": [
        {
          "output_type": "stream",
          "name": "stdout",
          "text": [
            "Enter a word: Book\n",
            "\n",
            "All meanings: \n",
            "book.n.01\n",
            "book.n.02\n",
            "record.n.05\n",
            "script.n.01\n",
            "ledger.n.01\n",
            "book.n.06\n",
            "book.n.07\n",
            "koran.n.01\n",
            "bible.n.01\n",
            "book.n.10\n",
            "book.n.11\n",
            "book.v.01\n",
            "reserve.v.04\n",
            "book.v.03\n",
            "book.v.04\n",
            "\n",
            "\n",
            "Noun meanings: \n",
            "book.n.01\n",
            "book.n.02\n",
            "record.n.05\n",
            "script.n.01\n",
            "ledger.n.01\n",
            "book.n.06\n",
            "book.n.07\n",
            "koran.n.01\n",
            "bible.n.01\n",
            "book.n.10\n",
            "book.n.11\n"
          ]
        }
      ]
    },
    {
      "cell_type": "markdown",
      "source": [
        "#### Different forms of the meaning of a word"
      ],
      "metadata": {
        "id": "VIkPdHUflfIa"
      }
    },
    {
      "cell_type": "code",
      "source": [
        "verbs = set()\n",
        "nouns = set()\n",
        "adj = set()\n",
        "\n",
        "for word in wordnet.synsets('sound', pos='n'):\n",
        "  nouns.add(word.lemmas()[0].name())\n",
        "\n",
        "for word in wordnet.synsets('sound', pos='v'):\n",
        "  verbs.add(word.lemmas()[0].name())\n",
        "\n",
        "for word in wordnet.synsets('sound', pos='a'):\n",
        "  adj.add(word.lemmas()[0].name())\n"
      ],
      "metadata": {
        "id": "kOG31cvKld0Y"
      },
      "execution_count": 39,
      "outputs": []
    },
    {
      "cell_type": "code",
      "source": [
        "verbs"
      ],
      "metadata": {
        "colab": {
          "base_uri": "https://localhost:8080/"
        },
        "id": "TAGJmdILl7QU",
        "outputId": "e2e29926-f7e2-4861-e3f3-907049648613"
      },
      "execution_count": 40,
      "outputs": [
        {
          "output_type": "execute_result",
          "data": {
            "text/plain": [
              "{'fathom', 'sound', 'voice'}"
            ]
          },
          "metadata": {},
          "execution_count": 40
        }
      ]
    },
    {
      "cell_type": "code",
      "source": [
        "nouns"
      ],
      "metadata": {
        "colab": {
          "base_uri": "https://localhost:8080/"
        },
        "id": "xcRrZIcZl-s4",
        "outputId": "7010448f-4693-48db-88c6-c70edbd662f4"
      },
      "execution_count": 41,
      "outputs": [
        {
          "output_type": "execute_result",
          "data": {
            "text/plain": [
              "{'audio', 'phone', 'sound', 'strait'}"
            ]
          },
          "metadata": {},
          "execution_count": 41
        }
      ]
    },
    {
      "cell_type": "code",
      "source": [
        "adj"
      ],
      "metadata": {
        "colab": {
          "base_uri": "https://localhost:8080/"
        },
        "id": "Wqi2EsZymAko",
        "outputId": "e9847503-b475-49b5-d829-7427d9367eb6"
      },
      "execution_count": 42,
      "outputs": [
        {
          "output_type": "execute_result",
          "data": {
            "text/plain": [
              "{'good', 'healthy', 'heavy', 'legal', 'reasoned', 'sound'}"
            ]
          },
          "metadata": {},
          "execution_count": 42
        }
      ]
    },
    {
      "cell_type": "markdown",
      "source": [
        "#### Find Antonyms"
      ],
      "metadata": {
        "id": "0-UYN91Pm-mL"
      }
    },
    {
      "cell_type": "code",
      "source": [
        "ant = set()\n",
        "for synset in wordnet.synsets('good'):\n",
        "  for lemma in synset.lemmas():\n",
        "    if lemma.antonyms():\n",
        "      ant.add(lemma.antonyms()[0].name())\n",
        "\n",
        "\n",
        "print('Antonyms: ', ant)"
      ],
      "metadata": {
        "colab": {
          "base_uri": "https://localhost:8080/"
        },
        "id": "itMl4MORm9uH",
        "outputId": "924a38b9-e75d-4f8f-9cb8-dfa305086b0a"
      },
      "execution_count": 47,
      "outputs": [
        {
          "output_type": "stream",
          "name": "stdout",
          "text": [
            "Antonyms:  {'bad', 'evil', 'ill', 'evilness', 'badness'}\n"
          ]
        }
      ]
    },
    {
      "cell_type": "markdown",
      "source": [
        "#### Find Hypernyms"
      ],
      "metadata": {
        "id": "XZfeMM7BoUxh"
      }
    },
    {
      "cell_type": "code",
      "source": [
        "word = 'gold'\n",
        "synsets = wordnet.synsets(word)\n",
        "\n",
        "for synset in synsets:\n",
        "  # Get hypernyms (parent convepts)\n",
        "  hypernyms = synset.hypernyms()\n",
        "\n",
        "  # Check if there are hypernyms\n",
        "  if hypernyms:\n",
        "    for hypernym in hypernyms:\n",
        "      print(f\"Hypernym for '{word}': {hypernym.name()}\")"
      ],
      "metadata": {
        "colab": {
          "base_uri": "https://localhost:8080/"
        },
        "id": "pN4Tz8dyoXkY",
        "outputId": "0d33086d-9d28-44e6-f94a-57de0e0c5a65"
      },
      "execution_count": 58,
      "outputs": [
        {
          "output_type": "stream",
          "name": "stdout",
          "text": [
            "Hypernym for 'gold': precious_metal.n.01\n",
            "Hypernym for 'gold': yellow.n.01\n",
            "Hypernym for 'gold': noble_metal.n.01\n",
            "Hypernym for 'gold': wealth.n.03\n",
            "Hypernym for 'gold': invaluableness.n.01\n"
          ]
        }
      ]
    }
  ]
}