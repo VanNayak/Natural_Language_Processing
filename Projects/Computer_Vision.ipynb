{
 "cells": [
  {
   "cell_type": "markdown",
   "metadata": {},
   "source": [
    "#### Computer Vision\n",
    "\n",
    "* Computer Vision is one of the fields of artificial intelligence that trains and enables computers to understand the visual world.\n",
    "\n",
    "* Computers can use digital images and deep learning models to accurately identify and classify objecs and react to them.\n",
    "\n",
    "* Computer vision in AI is dedicated to the development of automated systems that can inter pret visual data (such as photographs or motion pictures) in the same manner as people do.\n",
    "\n",
    "* The idea behind computer vision is to interpret and comprehend images on a pixel-ny-pixel basis.\n",
    "\n",
    "* This is the foundation of the computer vision field. Regarding the technical side of things, computers will seem to extract visual data, manage it, and analyze the outcomes using sophisticated software programs.\n",
    "\n",
    "* The amount of data that we generate today is tremendous i.e., 2.5 quintillion bytes of data every single day.\n",
    "\n",
    "* This growth in data has proven to be one of the driving factors behind the development of computer vision."
   ]
  },
  {
   "cell_type": "markdown",
   "metadata": {},
   "source": [
    "#### Recognition\n",
    "\n",
    "- This process involves assigning digital labels to bojects within the image.\n",
    "\n",
    "- Examples of recognition are handwriting or facial recognition of 2D objects, and 3D assignments handle challenges such as movign object recognition which helps in automatic robot manipulation."
   ]
  },
  {
   "cell_type": "markdown",
   "metadata": {},
   "source": []
  },
  {
   "cell_type": "markdown",
   "metadata": {},
   "source": [
    "#### Reconstruction:\n",
    "\n",
    "- This process refers to 3D scene rendering given inputs from particular visual images by incorporating multiple viewpoints, digital shading, and sensory depth data.\n"
   ]
  },
  {
   "cell_type": "markdown",
   "metadata": {},
   "source": [
    "### Reorganization\n",
    "- This process refers to raw pixel segmentation into data groups that represent the design of a pre-determined configuration.\n",
    "\n",
    "- Low-level vision tasks include corner detection, edges, and contours; while high-level tasks involve semantic segmentation, which can partly overp with recognition processes."
   ]
  },
  {
   "cell_type": "markdown",
   "metadata": {},
   "source": [
    "OpenCV (CV2) is a Python library that provides a comprehensive set of tools for computer vision and image processing. It is widely used in the field of artificial intelligence and machine learning for tasks such as object detection, image classification, and facial recognition."
   ]
  },
  {
   "cell_type": "markdown",
   "metadata": {},
   "source": []
  }
 ],
 "metadata": {
  "language_info": {
   "name": "python"
  }
 },
 "nbformat": 4,
 "nbformat_minor": 2
}
