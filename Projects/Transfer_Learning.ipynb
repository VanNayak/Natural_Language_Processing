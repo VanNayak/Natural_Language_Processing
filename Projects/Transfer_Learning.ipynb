{
 "cells": [
  {
   "cell_type": "markdown",
   "metadata": {},
   "source": [
    "#### Transfer Learning\n",
    "\n",
    "* Transfer learning is a machine learning technique where a model trained on one task is reused as the starting point for a model on a second task.\n",
    "* This can be done by freezing the weights of the first model and then training the second model on a new dataset.\n",
    "* This can help to improve the performance of the second model, as it can start from a point where the first model has already learned some important features."
   ]
  },
  {
   "cell_type": "markdown",
   "metadata": {},
   "source": [
    "#### ImageNet\n",
    "\n",
    "* ImageNet is a large-scale image database designed for visual object recognition software research. It contains over 14 million images and 1000 classes.\n",
    "* The iamges are organizd into a hierarchical taxonomy, with each class representinga  diffferent object or scene.\n",
    "* ImageNet was created by the Stanford Vision Lab and first released in 2009.\n",
    "* It has since become a benchmark for evaluating the performance of visual object recognition software."
   ]
  },
  {
   "cell_type": "markdown",
   "metadata": {},
   "source": []
  }
 ],
 "metadata": {
  "language_info": {
   "name": "python"
  }
 },
 "nbformat": 4,
 "nbformat_minor": 2
}
