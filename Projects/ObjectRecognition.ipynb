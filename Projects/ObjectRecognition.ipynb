{
 "cells": [
  {
   "cell_type": "markdown",
   "metadata": {},
   "source": [
    "#### Object Recognition\n",
    "* Object recognition in image processing refers to the task of identifying and classifying the objects within digital images or video frames.\n",
    "* It involves the use of computer vision techniques and machine learning algorithms to automatically detect and recognize objects of interest in visual data."
   ]
  },
  {
   "cell_type": "markdown",
   "metadata": {},
   "source": [
    "##### Region based Convolutional Neural Networks for Object Recognition\n",
    "* The R-CNN was described in the 2014 paper by Ross Girshick, et al, from UC Berkeley titled \"Rich feature hiearchies for accurate object detction and semantic segmentation.\"\n",
    "* It may have been one of the first large and successful application of convolution neural networks to the problem of object localization, detction, and segmentation.\n",
    "* The approach was demonstrated on benchmark datasets, achieving then state-of-the-art results on the VOC-2012 dataset and the 200-class ILSVRC-2013 object detection dataset."
   ]
  },
  {
   "cell_type": "markdown",
   "metadata": {},
   "source": [
    "#### Fast RCNN\n",
    "* A prior work was proposed to speed up the technique called spatial pyramid pooling networks or SPPnets, in the 2014 paper \"Spatial Pyramid Pooling in deep Convolutional Networks for Visual recognition.\"\n",
    "* This did speed up the extraction of features, but essentially used a typed of forward pass caching algorithm.\n",
    "* Fast R-CNN is proposed as a single model instead of a pipeline to learn and output regions and classifications directly."
   ]
  }
 ],
 "metadata": {
  "language_info": {
   "name": "python"
  }
 },
 "nbformat": 4,
 "nbformat_minor": 2
}
