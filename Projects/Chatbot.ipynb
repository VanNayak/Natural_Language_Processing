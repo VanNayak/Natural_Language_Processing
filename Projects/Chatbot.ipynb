{
 "cells": [
  {
   "cell_type": "code",
   "execution_count": 1,
   "metadata": {},
   "outputs": [],
   "source": [
    "import nltk\n",
    "import random\n",
    "from nltk.stem import WordNetLemmatizer"
   ]
  },
  {
   "cell_type": "code",
   "execution_count": 59,
   "metadata": {},
   "outputs": [],
   "source": [
    "# define the chatbot responses at intents\n",
    "\n",
    "responses = {\n",
    "    \"greeting\": [\n",
    "        \"Hello, how can I help you today?\",\n",
    "        \"Hi, I'm here to help you with any questions or tasks you may have.\",\n",
    "        \"Hey there! What can I do for you today?\"],\n",
    "\n",
    "    \"goodbye\": [\n",
    "        \"Goodbye, thank you for using our chatbot!\",\n",
    "        \"Have a great day! If you need anything else, feel free to reach out.\",\n",
    "        \"See you later, all the best!\"],\n",
    "\n",
    "    \"thanks\": [\n",
    "        \"No problem! It was my pleasure to assist you.\",\n",
    "        \"You're welcome!\", 'Glad to healp!', 'Anytime', 'Happy to assist!',\n",
    "        \"Anytime! Feel free to reach out if you need anything else.\"],     \n",
    "\n",
    "    \"default\": [\n",
    "        \"I'm sorry, I don't understand. Can you please rephrase your question?\",\n",
    "        \"Can you say that again?\",\n",
    "        \"I'm not sure I follow. Can you please restate your question?\"\n",
    "    ]\n",
    "}  "
   ]
  },
  {
   "cell_type": "code",
   "execution_count": 55,
   "metadata": {},
   "outputs": [],
   "source": [
    "# simple set of questions and responses / patterns\n",
    "\n",
    "patterns = {\n",
    "    'hi' : 'greeting',\n",
    "    'hello' : 'greeting',\n",
    "    'hey' : 'greeting',\n",
    "    'howdy' : 'greeting',\n",
    "    'bye' : 'goodbye',\n",
    "    'goodbye' : 'goodbye',\n",
    "    'thanks' : 'thanks',\n",
    "    'thank you' : 'thanks',\n",
    "    'I\\'m sorry' : 'default',\n",
    "    'i don\\'t know' : 'default',\n",
    "    'what can i do for you' : 'default',\n",
    "    'how can i help you' : 'default',\n",
    "    'help' : 'default',\n",
    "    'what can you do' : 'default',\n",
    "    'can you help me' : 'default',\n",
    "    'i need help' : 'default',\n",
    "    'i want to know' : 'default',\n",
    "    'tell me' : 'default',\n",
    "    'tell me about' : 'default',\n",
    "    'tell me more' : 'default',\n",
    "    'give me' : 'default',\n",
    "    'give me more' : 'default',\n",
    "    'more' : 'default',\n",
    "    'more' : 'default',\n",
    "}"
   ]
  },
  {
   "cell_type": "code",
   "execution_count": 56,
   "metadata": {},
   "outputs": [
    {
     "data": {
      "text/plain": [
       "'play'"
      ]
     },
     "execution_count": 56,
     "metadata": {},
     "output_type": "execute_result"
    }
   ],
   "source": [
    "wnl = WordNetLemmatizer()\n",
    "wnl.lemmatize('playing', \n",
    "              pos='v')"
   ]
  },
  {
   "cell_type": "code",
   "execution_count": 57,
   "metadata": {},
   "outputs": [],
   "source": [
    "# Matches the user input\n",
    "def respond(user_input):\n",
    "    for word in nltk.word_tokenize(user_input.lower()):\n",
    "        if word in patterns:\n",
    "            intent = patterns[word]\n",
    "            return random.choice(responses[intent])\n",
    "    return random.choice(responses['default'])"
   ]
  },
  {
   "cell_type": "code",
   "execution_count": 65,
   "metadata": {},
   "outputs": [
    {
     "data": {
      "text/plain": [
       "'Hey there! What can I do for you today?'"
      ]
     },
     "execution_count": 65,
     "metadata": {},
     "output_type": "execute_result"
    }
   ],
   "source": [
    "respond('howdy')"
   ]
  },
  {
   "cell_type": "code",
   "execution_count": 66,
   "metadata": {},
   "outputs": [],
   "source": [
    "def chat():\n",
    "    print('chatbot: How can I help you today? (Type \"exit\") to quit')\n",
    "    while True:\n",
    "        user_input = input('You:')\n",
    "        if user_input == 'exit':\n",
    "            print('CHatbot: Goodbye!')\n",
    "            break\n",
    "        response = respond(user_input)\n",
    "        print('Chatbot:', response)"
   ]
  },
  {
   "cell_type": "code",
   "execution_count": 67,
   "metadata": {},
   "outputs": [
    {
     "name": "stdout",
     "output_type": "stream",
     "text": [
      "chatbot: How can I help you today? (Type \"exit\") to quit\n",
      "Chatbot: Hey there! What can I do for you today?\n",
      "Chatbot: Can you say that again?\n",
      "Chatbot: Anytime\n",
      "Chatbot: Anytime! Feel free to reach out if you need anything else.\n",
      "CHatbot: Goodbye!\n"
     ]
    }
   ],
   "source": [
    "chat()"
   ]
  }
 ],
 "metadata": {
  "kernelspec": {
   "display_name": "Python 3",
   "language": "python",
   "name": "python3"
  },
  "language_info": {
   "codemirror_mode": {
    "name": "ipython",
    "version": 3
   },
   "file_extension": ".py",
   "mimetype": "text/x-python",
   "name": "python",
   "nbconvert_exporter": "python",
   "pygments_lexer": "ipython3",
   "version": "3.11.10"
  }
 },
 "nbformat": 4,
 "nbformat_minor": 2
}
