{
 "cells": [
  {
   "cell_type": "markdown",
   "metadata": {},
   "source": [
    "<div style=\"\n",
    "    background: linear-gradient(90deg,rgb(251, 255, 10), #ff758c, #ff4d6d);\n",
    "    -webkit-background-clip: text;\n",
    "    -webkit-text-fill-color: transparent;\n",
    "    font-size: 20px;\n",
    "    font-weight: bold;\n",
    "    text-align: center;\">\n",
    "  Basic Python\n",
    "</div>\n"
   ]
  },
  {
   "cell_type": "code",
   "execution_count": 1,
   "metadata": {},
   "outputs": [],
   "source": [
    "import warnings\n",
    "warnings.filterwarnings('ignore')"
   ]
  },
  {
   "cell_type": "code",
   "execution_count": null,
   "metadata": {},
   "outputs": [
    {
     "name": "stdout",
     "output_type": "stream",
     "text": [
      "Average age :  27.33\n",
      "Average age :  27.33\n"
     ]
    }
   ],
   "source": [
    "import re\n",
    "sent = 'They told that their ages are 25 26 and 31 respectively.'\n",
    "\n",
    "#Find the average ages in the sentence\n",
    "ar = [int(i) for i in re.findall('\\d{2,3}', sent)]\n",
    "print(f'Average age : {sum(ar)/len(ar) : .2f}')\n",
    "\n",
    "ar=[int(i) for i in sent.split(\" \") if i.isdigit()]\n",
    "print(f'Average age : {sum(ar)/len(ar) : .2f}')"
   ]
  },
  {
   "cell_type": "code",
   "execution_count": 3,
   "metadata": {},
   "outputs": [
    {
     "name": "stdout",
     "output_type": "stream",
     "text": [
      "अजय\n",
      "अतुल\n",
      "अजय विजय प्रिया अतुल\n",
      "अजय\n",
      "6\n",
      "ु "
     ]
    }
   ],
   "source": [
    "names = ['अजय', 'विजय', 'प्रिया', 'अतुल' ] \n",
    "for name in names:\n",
    "    if name.startswith('अ'):\n",
    "        print(name)\n",
    "\n",
    "print(' '.join(names))\n",
    "\n",
    "print('विजय'.replace('वि', 'अ'))\n",
    "\n",
    "print(len(names[2]))\n",
    "\n",
    "for i in name[2]:\n",
    "    print(i, end=' ')"
   ]
  },
  {
   "cell_type": "code",
   "execution_count": 4,
   "metadata": {},
   "outputs": [],
   "source": [
    "f = open('names.txt','w', encoding='utf8')\n",
    "for x in range(100):\n",
    "    f.write('प्रिया\\n')\n",
    "f.close()"
   ]
  },
  {
   "cell_type": "code",
   "execution_count": 5,
   "metadata": {},
   "outputs": [
    {
     "data": {
      "text/plain": [
       "(114, 2352, 49, 'र', 2351)"
      ]
     },
     "execution_count": 5,
     "metadata": {},
     "output_type": "execute_result"
    }
   ],
   "source": [
    "ord('r'),ord('र'), ord('1'), chr(2352), ord('य')"
   ]
  },
  {
   "cell_type": "code",
   "execution_count": 6,
   "metadata": {},
   "outputs": [
    {
     "data": {
      "text/plain": [
       "'हप'"
      ]
     },
     "execution_count": 6,
     "metadata": {},
     "output_type": "execute_result"
    }
   ],
   "source": [
    "x = '\\u0939\\u092A'\n",
    "x"
   ]
  },
  {
   "cell_type": "code",
   "execution_count": 7,
   "metadata": {},
   "outputs": [
    {
     "data": {
      "text/plain": [
       "65039"
      ]
     },
     "execution_count": 7,
     "metadata": {},
     "output_type": "execute_result"
    }
   ],
   "source": [
    "x = '😊❤️😍👍😎'\n",
    "ord(x[2])"
   ]
  },
  {
   "cell_type": "code",
   "execution_count": 8,
   "metadata": {},
   "outputs": [
    {
     "name": "stdout",
     "output_type": "stream",
     "text": [
      "2346 2325 2379 2337 2366 "
     ]
    }
   ],
   "source": [
    "for x in 'पकोडा':\n",
    "    print(ord(x), end=' ')"
   ]
  },
  {
   "cell_type": "markdown",
   "metadata": {},
   "source": [
    "<div style=\"\n",
    "    background: linear-gradient(90deg,rgb(251, 255, 10), #ff758c, #ff4d6d);\n",
    "    -webkit-background-clip: text;\n",
    "    -webkit-text-fill-color: transparent;\n",
    "    font-size: 24px;\n",
    "    font-weight: bold;\n",
    "    text-align: center;\">\n",
    "  Tokenization\n",
    "</div>\n"
   ]
  },
  {
   "cell_type": "code",
   "execution_count": null,
   "metadata": {},
   "outputs": [
    {
     "name": "stdout",
     "output_type": "stream",
     "text": [
      "Found existing installation: numpy 2.0.2\n",
      "Uninstalling numpy-2.0.2:\n",
      "  Successfully uninstalled numpy-2.0.2\n",
      "Found existing installation: scipy 1.14.1\n",
      "Uninstalling scipy-1.14.1:\n",
      "  Successfully uninstalled scipy-1.14.1\n",
      "Collecting numpy==1.26.4\n",
      "  Downloading numpy-1.26.4-cp312-cp312-win_amd64.whl.metadata (61 kB)\n",
      "Collecting scipy==1.11.3\n",
      "  Downloading scipy-1.11.3-cp312-cp312-win_amd64.whl.metadata (60 kB)\n",
      "Downloading numpy-1.26.4-cp312-cp312-win_amd64.whl (15.5 MB)\n",
      "   ---------------------------------------- 0.0/15.5 MB ? eta -:--:--\n",
      "   ----------------------------- ---------- 11.3/15.5 MB 54.2 MB/s eta 0:00:01\n",
      "   ---------------------------------------- 15.5/15.5 MB 44.3 MB/s eta 0:00:00\n",
      "Downloading scipy-1.11.3-cp312-cp312-win_amd64.whl (43.7 MB)\n",
      "   ---------------------------------------- 0.0/43.7 MB ? eta -:--:--\n",
      "   --- ------------------------------------ 4.2/43.7 MB 83.7 MB/s eta 0:00:01\n",
      "   ---- ----------------------------------- 5.2/43.7 MB 18.8 MB/s eta 0:00:03\n",
      "   -------- ------------------------------- 9.4/43.7 MB 16.3 MB/s eta 0:00:03\n",
      "   ------------ --------------------------- 13.6/43.7 MB 17.5 MB/s eta 0:00:02\n",
      "   ------------ --------------------------- 13.6/43.7 MB 17.5 MB/s eta 0:00:02\n",
      "   ---------------------- ----------------- 24.1/43.7 MB 19.3 MB/s eta 0:00:02\n",
      "   ----------------------- ---------------- 25.7/43.7 MB 17.0 MB/s eta 0:00:02\n",
      "   -------------------------- ------------- 28.8/43.7 MB 16.6 MB/s eta 0:00:01\n",
      "   -------------------------- ------------- 29.4/43.7 MB 16.9 MB/s eta 0:00:01\n",
      "   ----------------------------- ---------- 31.7/43.7 MB 14.9 MB/s eta 0:00:01\n",
      "   ----------------------------- ---------- 32.5/43.7 MB 13.9 MB/s eta 0:00:01\n",
      "   --------------------------------- ------ 36.7/43.7 MB 14.2 MB/s eta 0:00:01\n",
      "   ----------------------------------- ---- 38.8/43.7 MB 13.8 MB/s eta 0:00:01\n",
      "   ------------------------------------- -- 40.9/43.7 MB 13.5 MB/s eta 0:00:01\n",
      "   -------------------------------------- - 41.9/43.7 MB 13.8 MB/s eta 0:00:01\n",
      "   ---------------------------------------  43.5/43.7 MB 13.2 MB/s eta 0:00:01\n",
      "   ---------------------------------------- 43.7/43.7 MB 12.5 MB/s eta 0:00:00\n",
      "Installing collected packages: numpy, scipy\n",
      "Successfully installed numpy-1.26.4 scipy-1.11.3\n"
     ]
    },
    {
     "name": "stderr",
     "output_type": "stream",
     "text": [
      "ERROR: pip's dependency resolver does not currently take into account all the packages that are installed. This behaviour is the source of the following dependency conflicts.\n",
      "blis 1.0.1 requires numpy<3.0.0,>=2.0.0, but you have numpy 1.26.4 which is incompatible.\n",
      "thinc 8.3.2 requires numpy<2.1.0,>=2.0.0; python_version >= \"3.9\", but you have numpy 1.26.4 which is incompatible.\n"
     ]
    }
   ],
   "source": [
    "# !pip uninstall numpy scipy -y\n",
    "# !pip install numpy==1.26.4 scipy==1.11.3\n",
    "# # !pip install --force-reinstall numpy==1.26.4 scipy\n"
   ]
  },
  {
   "cell_type": "code",
   "execution_count": 10,
   "metadata": {},
   "outputs": [],
   "source": [
    "import nltk"
   ]
  },
  {
   "cell_type": "code",
   "execution_count": 11,
   "metadata": {},
   "outputs": [
    {
     "name": "stderr",
     "output_type": "stream",
     "text": [
      "[nltk_data] Downloading package punkt to\n",
      "[nltk_data]     C:\\Users\\DAI.STUDENTSDC\\AppData\\Roaming\\nltk_data...\n",
      "[nltk_data]   Package punkt is already up-to-date!\n",
      "[nltk_data] Downloading package stopwords to\n",
      "[nltk_data]     C:\\Users\\DAI.STUDENTSDC\\AppData\\Roaming\\nltk_data...\n",
      "[nltk_data]   Package stopwords is already up-to-date!\n",
      "[nltk_data] Downloading package wordnet to\n",
      "[nltk_data]     C:\\Users\\DAI.STUDENTSDC\\AppData\\Roaming\\nltk_data...\n",
      "[nltk_data] Downloading package omw-1.4 to\n",
      "[nltk_data]     C:\\Users\\DAI.STUDENTSDC\\AppData\\Roaming\\nltk_data...\n",
      "[nltk_data]   Package omw-1.4 is already up-to-date!\n",
      "[nltk_data] Downloading package averaged_perceptron_tagger to\n",
      "[nltk_data]     C:\\Users\\DAI.STUDENTSDC\\AppData\\Roaming\\nltk_data...\n",
      "[nltk_data]   Package averaged_perceptron_tagger is already up-to-\n",
      "[nltk_data]       date!\n",
      "[nltk_data] Downloading package indian to\n",
      "[nltk_data]     C:\\Users\\DAI.STUDENTSDC\\AppData\\Roaming\\nltk_data...\n",
      "[nltk_data]   Package indian is already up-to-date!\n",
      "[nltk_data] Downloading package maxent_ne_chunker to\n",
      "[nltk_data]     C:\\Users\\DAI.STUDENTSDC\\AppData\\Roaming\\nltk_data...\n",
      "[nltk_data]   Package maxent_ne_chunker is already up-to-date!\n",
      "[nltk_data] Downloading package punkt_tab to\n",
      "[nltk_data]     C:\\Users\\DAI.STUDENTSDC\\AppData\\Roaming\\nltk_data...\n",
      "[nltk_data]   Package punkt_tab is already up-to-date!\n"
     ]
    },
    {
     "data": {
      "text/plain": [
       "True"
      ]
     },
     "execution_count": 11,
     "metadata": {},
     "output_type": "execute_result"
    }
   ],
   "source": [
    "nltk.download('punkt')                                # tokenizer\n",
    "nltk.download('stopwords')                            # collection of stopwords\n",
    "nltk.download('wordnet')                              # wordnet -> database of english words\n",
    "nltk.download('omw-1.4')                              # open multilingual wordnet\n",
    "nltk.download('averaged_perceptron_tagger')           # POS Tagger\n",
    "nltk.download('indian')                               # indian language POS tagger\n",
    "nltk.download('maxent_ne_chunker')                    # maxent chunking\n",
    "nltk.download('punkt_tab')"
   ]
  },
  {
   "cell_type": "markdown",
   "metadata": {},
   "source": [
    "<div style=\"\n",
    "    background: linear-gradient(90deg,rgb(251, 255, 10), #ff758c, #ff4d6d);\n",
    "    -webkit-background-clip: text;\n",
    "    -webkit-text-fill-color: transparent;\n",
    "    font-size: 20px;\n",
    "    font-weight: bold;\n",
    "    text-align: center;\">\n",
    "  Word Tokenization\n",
    "</div>\n"
   ]
  },
  {
   "cell_type": "code",
   "execution_count": 12,
   "metadata": {},
   "outputs": [],
   "source": [
    "from nltk.tokenize import word_tokenize"
   ]
  },
  {
   "cell_type": "code",
   "execution_count": 13,
   "metadata": {},
   "outputs": [
    {
     "name": "stdout",
     "output_type": "stream",
     "text": [
      "['They', 'told', 'that', 'their', 'ages', 'of', 'mr.', 'are', '25,', '26.2', 'and', '31', 'respectively.']\n",
      "['They', 'told', 'that', 'their', 'ages', 'of', 'mr.', 'are', '25', ',', '26.2', 'and', '31', 'respectively', '.']\n"
     ]
    }
   ],
   "source": [
    "sent = 'They told that their ages of mr. are 25, 26.2 and 31 respectively.'\n",
    "print(sent.split())\n",
    "print(word_tokenize(sent))"
   ]
  },
  {
   "cell_type": "code",
   "execution_count": 14,
   "metadata": {},
   "outputs": [
    {
     "name": "stdout",
     "output_type": "stream",
     "text": [
      "['Hello', 'friends!', 'How', 'are', 'you?', 'Welcome', 'to', 'the', 'world', 'of', 'python', 'programming.']\n",
      "['Hello', 'friends', '!', 'How', 'are', 'you', '?', 'Welcome', 'to', 'the', 'world', 'of', 'python', 'programming', '.']\n",
      "Percentage of punctuation 20.0%\n"
     ]
    }
   ],
   "source": [
    "from string import punctuation\n",
    "\n",
    "sent = '''Hello friends!\n",
    "How are you? Welcome to the world of python programming.'''\n",
    "\n",
    "print(sent.split())\n",
    "print(word_tokenize(sent))\n",
    "\n",
    "ar = [1 if i in punctuation else 0 for i in word_tokenize(sent)]\n",
    "ar = sum(ar)/len(ar)\n",
    "\n",
    "print(f\"Percentage of punctuation {ar*100}%\")"
   ]
  },
  {
   "cell_type": "code",
   "execution_count": 16,
   "metadata": {},
   "outputs": [
    {
     "name": "stdout",
     "output_type": "stream",
     "text": [
      "['столица', 'России,', 'город', 'федерального', 'значения,', 'административный', 'центр', 'Центрального', 'федерального', 'округа', 'и', 'центр', 'Московской', 'области,', 'в', 'состав', 'которой', 'не', 'входит[12].', 'Мегаполис[12];', 'крупнейший', 'по', 'численности', 'населения', 'город', 'России', 'и', 'её', 'субъект', '—', '13', '149', '803[4]', 'человека', '(2024),', 'что', 'делает', 'Москву', '22-й', 'среди', 'городов', 'мира', 'по', 'численности', 'населения[13].', 'Центр', 'Московской', 'городской', 'агломерации.', 'Самый', 'крупный', 'город', 'Европы', 'по', 'площади[14]', 'и', 'населению.', 'Археологические', 'данные', 'свидетельствуют', 'о', 'существовании', 'городского', 'поселения', 'в', 'районе', 'будущего', 'Кремля', 'с', 'XI', 'века[1].', 'История', 'города', 'насчитывает,', 'по', 'меньшей', 'мере,', '877', 'лет:', 'первое', 'письменное', 'упоминание', 'о', 'Москве', 'относится', 'к', '1147', 'году[12].', 'Москва', '—', 'историческая', 'столица', 'Великого', 'княжества', 'Московского,', 'Русского', 'царства,', 'Российской', 'империи', '(в', '1728—1732', 'годах[15][16][17][18]),', 'Советской', 'России', 'и', 'СССР.', 'Город-герой.', 'В', 'Москве', 'находятся', 'федеральные', 'органы', 'государственной', 'власти', 'Российской', 'Федерации', '(за', 'исключением', 'Конституционного', 'суда),', 'посольства', 'иностранных', 'государств,', 'штаб-квартиры', 'большинства', 'крупнейших', 'российских', 'коммерческих', 'организаций', 'и', 'общественных', 'объединений.', 'Расположена', 'на', 'западе', 'России,', 'на', 'реке', 'Москве', 'в', 'центре', 'Восточно-Европейской', 'равнины,', 'в', 'междуречье', 'Оки', 'и', 'Волги.', 'Как', 'субъект', 'федерации', 'Москва', 'граничит', 'с', 'Московской', 'и', 'Калужской', 'областями.', 'Москва', 'включает', '6', 'городских', 'населённых', 'пунктов,', 'в', 'том', 'числе', '4', 'города', 'и', '2', 'посёлка', 'городского', 'типа,', 'а', 'также', 'большое', 'количество', 'сельских', 'населённых', 'пунктов.', 'Ряд', 'подмосковных', 'городов,', 'посёлков', 'городского', 'типа', 'и', 'сельских', 'населённых', 'пунктов', 'были', 'включены', 'в', 'состав', 'Москвы', 'и', 'утратили', 'свой', 'статус.', 'Москва', '—', 'популярный', 'туристический', 'центр.', 'Московский', 'Кремль,', 'Красная', 'площадь,', 'Новодевичий', 'монастырь', 'и', 'Церковь', 'Вознесения', 'в', 'Коломенском', 'входят', 'в', 'список', 'объектов', 'всемирного', 'наследия', 'ЮНЕСКО[19].', 'Она', 'является', 'важнейшим', 'транспортным', 'узлом:', 'город', 'обслуживают', '6', 'аэропортов,', '10', 'железнодорожных', 'вокзалов,', '3', 'речных', 'порта', '(имеется', 'речное', 'сообщение', 'с', 'морями', 'бассейнов', 'Атлантического', 'и', 'Северного', 'Ледовитого', 'океанов).', 'С', '1935', 'года', 'в', 'Москве', 'работает', 'метрополитен.', 'Москва', '—', 'спортивный', 'центр', 'страны.', 'В', '1980', 'году', 'в', 'Москве', 'прошли', 'XXII', 'летние', 'Олимпийские', 'игры,', 'а', 'в', '2018', 'году', 'город', 'стал', 'одним', 'из', 'хозяев', 'чемпионата', 'мира', 'по', 'футболу.']\n",
      "['столица', 'России', ',', 'город', 'федерального', 'значения', ',', 'административный', 'центр', 'Центрального', 'федерального', 'округа', 'и', 'центр', 'Московской', 'области', ',', 'в', 'состав', 'которой', 'не', 'входит', '[', '12', ']', '.', 'Мегаполис', '[', '12', ']', ';', 'крупнейший', 'по', 'численности', 'населения', 'город', 'России', 'и', 'её', 'субъект', '—', '13', '149', '803', '[', '4', ']', 'человека', '(', '2024', ')', ',', 'что', 'делает', 'Москву', '22-й', 'среди', 'городов', 'мира', 'по', 'численности', 'населения', '[', '13', ']', '.', 'Центр', 'Московской', 'городской', 'агломерации', '.', 'Самый', 'крупный', 'город', 'Европы', 'по', 'площади', '[', '14', ']', 'и', 'населению', '.', 'Археологические', 'данные', 'свидетельствуют', 'о', 'существовании', 'городского', 'поселения', 'в', 'районе', 'будущего', 'Кремля', 'с', 'XI', 'века', '[', '1', ']', '.', 'История', 'города', 'насчитывает', ',', 'по', 'меньшей', 'мере', ',', '877', 'лет', ':', 'первое', 'письменное', 'упоминание', 'о', 'Москве', 'относится', 'к', '1147', 'году', '[', '12', ']', '.', 'Москва', '—', 'историческая', 'столица', 'Великого', 'княжества', 'Московского', ',', 'Русского', 'царства', ',', 'Российской', 'империи', '(', 'в', '1728—1732', 'годах', '[', '15', ']', '[', '16', ']', '[', '17', ']', '[', '18', ']', ')', ',', 'Советской', 'России', 'и', 'СССР', '.', 'Город-герой', '.', 'В', 'Москве', 'находятся', 'федеральные', 'органы', 'государственной', 'власти', 'Российской', 'Федерации', '(', 'за', 'исключением', 'Конституционного', 'суда', ')', ',', 'посольства', 'иностранных', 'государств', ',', 'штаб-квартиры', 'большинства', 'крупнейших', 'российских', 'коммерческих', 'организаций', 'и', 'общественных', 'объединений', '.', 'Расположена', 'на', 'западе', 'России', ',', 'на', 'реке', 'Москве', 'в', 'центре', 'Восточно-Европейской', 'равнины', ',', 'в', 'междуречье', 'Оки', 'и', 'Волги', '.', 'Как', 'субъект', 'федерации', 'Москва', 'граничит', 'с', 'Московской', 'и', 'Калужской', 'областями', '.', 'Москва', 'включает', '6', 'городских', 'населённых', 'пунктов', ',', 'в', 'том', 'числе', '4', 'города', 'и', '2', 'посёлка', 'городского', 'типа', ',', 'а', 'также', 'большое', 'количество', 'сельских', 'населённых', 'пунктов', '.', 'Ряд', 'подмосковных', 'городов', ',', 'посёлков', 'городского', 'типа', 'и', 'сельских', 'населённых', 'пунктов', 'были', 'включены', 'в', 'состав', 'Москвы', 'и', 'утратили', 'свой', 'статус', '.', 'Москва', '—', 'популярный', 'туристический', 'центр', '.', 'Московский', 'Кремль', ',', 'Красная', 'площадь', ',', 'Новодевичий', 'монастырь', 'и', 'Церковь', 'Вознесения', 'в', 'Коломенском', 'входят', 'в', 'список', 'объектов', 'всемирного', 'наследия', 'ЮНЕСКО', '[', '19', ']', '.', 'Она', 'является', 'важнейшим', 'транспортным', 'узлом', ':', 'город', 'обслуживают', '6', 'аэропортов', ',', '10', 'железнодорожных', 'вокзалов', ',', '3', 'речных', 'порта', '(', 'имеется', 'речное', 'сообщение', 'с', 'морями', 'бассейнов', 'Атлантического', 'и', 'Северного', 'Ледовитого', 'океанов', ')', '.', 'С', '1935', 'года', 'в', 'Москве', 'работает', 'метрополитен', '.', 'Москва', '—', 'спортивный', 'центр', 'страны', '.', 'В', '1980', 'году', 'в', 'Москве', 'прошли', 'XXII', 'летние', 'Олимпийские', 'игры', ',', 'а', 'в', '2018', 'году', 'город', 'стал', 'одним', 'из', 'хозяев', 'чемпионата', 'мира', 'по', 'футболу', '.']\n",
      "Percentage of punctuation 20.21563342318059%\n"
     ]
    }
   ],
   "source": [
    "sent = ''' столица России, город федерального значения, административный центр Центрального федерального округа и центр Московской области, в состав которой не входит[12]. Мегаполис[12]; крупнейший по численности населения город России и её субъект — 13 149 803[4] человека (2024), что делает Москву 22-й среди городов мира по численности населения[13]. Центр Московской городской агломерации. Самый крупный город Европы по площади[14] и населению.\n",
    "Археологические данные свидетельствуют о существовании городского поселения в районе будущего Кремля с XI века[1]. История города насчитывает, по меньшей мере, 877 лет: первое письменное упоминание о Москве относится к 1147 году[12]. Москва — историческая столица Великого княжества Московского, Русского царства, Российской империи (в 1728—1732 годах[15][16][17][18]), Советской России и СССР. Город-герой. В Москве находятся федеральные органы государственной власти Российской Федерации (за исключением Конституционного суда), посольства иностранных государств, штаб-квартиры большинства крупнейших российских коммерческих организаций и общественных объединений.\n",
    "Расположена на западе России, на реке Москве в центре Восточно-Европейской равнины, в междуречье Оки и Волги. Как субъект федерации Москва граничит с Московской и Калужской областями. Москва включает 6 городских населённых пунктов, в том числе 4 города и 2 посёлка городского типа, а также большое количество сельских населённых пунктов. Ряд подмосковных городов, посёлков городского типа и сельских населённых пунктов были включены в состав Москвы и утратили свой статус.\n",
    "Москва — популярный туристический центр. Московский Кремль, Красная площадь, Новодевичий монастырь и Церковь Вознесения в Коломенском входят в список объектов всемирного наследия ЮНЕСКО[19]. Она является важнейшим транспортным узлом: город обслуживают 6 аэропортов, 10 железнодорожных вокзалов, 3 речных порта (имеется речное сообщение с морями бассейнов Атлантического и Северного Ледовитого океанов). С 1935 года в Москве работает метрополитен. Москва — спортивный центр страны. В 1980 году в Москве прошли XXII летние Олимпийские игры, а в 2018 году город стал одним из хозяев чемпионата мира по футболу.'''\n",
    "\n",
    "print(sent.split())\n",
    "print(word_tokenize(sent))\n",
    "\n",
    "ar = [1 if i in punctuation else 0 for i in word_tokenize(sent)]\n",
    "ar = sum(ar)/len(ar)\n",
    "\n",
    "print(f\"Percentage of punctuation {ar*100}%\")"
   ]
  },
  {
   "cell_type": "code",
   "execution_count": 17,
   "metadata": {},
   "outputs": [
    {
     "name": "stdout",
     "output_type": "stream",
     "text": [
      "['இந்தியாவின்,', 'தமிழ்நாடு', 'மாநிலத்தில்', 'அமைந்துள்ள', 'திருநெல்வேலி', 'மாவட்டத்தில்', 'இருக்கும்', 'ஒரு', 'மாநகராட்சி', 'ஆகும்.', '\"திக்கெல்லாம்', 'புகழுறும்', \"திருநெல்வேலி'\", 'எனச்', 'சம்பந்தரும்,', '\"தண்', 'பொருநைப்', \"புனல்நாடு'\", 'எனச்', 'சேக்கிழாரும்,', '\"பொன்திணிந்த', 'புனல்', 'பெருகும்', 'பொருநைத்', \"திருநதி'\", 'என்று', 'கம்பரும்', 'பாடிய', 'பூமி,', 'திருநெல்வேலி', 'ஆகும்.', 'இவ்வூர்', 'அல்வாவிற்கு', 'பெயர்', 'பெற்றது.', 'திருநெல்வேலி', 'மாநகரம்,', 'தன்பொருனை', 'எனப்படும்', 'தாமிரபரணி', 'ஆற்றங்கரையில்', 'அமைந்துள்ளது.', '2000', 'ஆண்டு', 'பழமை', 'வாய்ந்த', 'இந்த', 'நகரம்', 'பாண்டிய', 'மன்னர்களின்', 'தலைநகரமாகச்', 'சிலகாலம்', 'செயல்பட்டது.', 'இங்குள்ள', 'நெல்லையப்பர்', '-', 'காந்திமதி', 'கோவில்', 'மிகவும்', 'பிரசித்தி', 'பெற்றது.[2]']\n",
      "['இந்தியாவின்', ',', 'தமிழ்நாடு', 'மாநிலத்தில்', 'அமைந்துள்ள', 'திருநெல்வேலி', 'மாவட்டத்தில்', 'இருக்கும்', 'ஒரு', 'மாநகராட்சி', 'ஆகும்', '.', '``', 'திக்கெல்லாம்', 'புகழுறும்', 'திருநெல்வேலி', \"'\", 'எனச்', 'சம்பந்தரும்', ',', '``', 'தண்', 'பொருநைப்', 'புனல்நாடு', \"'\", 'எனச்', 'சேக்கிழாரும்', ',', '``', 'பொன்திணிந்த', 'புனல்', 'பெருகும்', 'பொருநைத்', 'திருநதி', \"'\", 'என்று', 'கம்பரும்', 'பாடிய', 'பூமி', ',', 'திருநெல்வேலி', 'ஆகும்', '.', 'இவ்வூர்', 'அல்வாவிற்கு', 'பெயர்', 'பெற்றது', '.', 'திருநெல்வேலி', 'மாநகரம்', ',', 'தன்பொருனை', 'எனப்படும்', 'தாமிரபரணி', 'ஆற்றங்கரையில்', 'அமைந்துள்ளது', '.', '2000', 'ஆண்டு', 'பழமை', 'வாய்ந்த', 'இந்த', 'நகரம்', 'பாண்டிய', 'மன்னர்களின்', 'தலைநகரமாகச்', 'சிலகாலம்', 'செயல்பட்டது', '.', 'இங்குள்ள', 'நெல்லையப்பர்', '-', 'காந்திமதி', 'கோவில்', 'மிகவும்', 'பிரசித்தி', 'பெற்றது', '.', '[', '2', ']']\n",
      "Percentage of punctuation 20.98765432098765%\n"
     ]
    }
   ],
   "source": [
    "sent = ''' \n",
    "இந்தியாவின், தமிழ்நாடு மாநிலத்தில் அமைந்துள்ள திருநெல்வேலி மாவட்டத்தில் இருக்கும் ஒரு மாநகராட்சி ஆகும். \"திக்கெல்லாம் புகழுறும் திருநெல்வேலி' எனச் சம்பந்தரும், \"தண் பொருநைப் புனல்நாடு' எனச் சேக்கிழாரும், \"பொன்திணிந்த புனல் பெருகும் பொருநைத் திருநதி' என்று கம்பரும் பாடிய பூமி, திருநெல்வேலி ஆகும். இவ்வூர் அல்வாவிற்கு பெயர் பெற்றது.\n",
    "திருநெல்வேலி மாநகரம், தன்பொருனை எனப்படும் தாமிரபரணி ஆற்றங்கரையில் அமைந்துள்ளது. 2000 ஆண்டு பழமை வாய்ந்த இந்த நகரம் பாண்டிய மன்னர்களின் தலைநகரமாகச் சிலகாலம் செயல்பட்டது. இங்குள்ள நெல்லையப்பர் - காந்திமதி கோவில் மிகவும் பிரசித்தி பெற்றது.[2]\n",
    "'''\n",
    "\n",
    "print(sent.split())\n",
    "print(word_tokenize(sent))\n",
    "\n",
    "ar = [1 if i in punctuation else 0 for i in word_tokenize(sent)]\n",
    "ar = sum(ar)/len(ar)\n",
    "\n",
    "print(f\"Percentage of punctuation {ar*100}%\")"
   ]
  },
  {
   "cell_type": "markdown",
   "metadata": {},
   "source": [
    "### Sentence Tokenization"
   ]
  },
  {
   "cell_type": "code",
   "execution_count": 18,
   "metadata": {},
   "outputs": [],
   "source": [
    "from nltk.tokenize import sent_tokenize"
   ]
  },
  {
   "cell_type": "code",
   "execution_count": 19,
   "metadata": {},
   "outputs": [],
   "source": [
    "text = '''Hello friends!\n",
    "How are you? Welcome to the world of Python programming.\n",
    "'''"
   ]
  },
  {
   "cell_type": "code",
   "execution_count": 20,
   "metadata": {},
   "outputs": [
    {
     "data": {
      "text/plain": [
       "['Hello friends!',\n",
       " 'How are you?',\n",
       " 'Welcome to the world of Python programming.']"
      ]
     },
     "execution_count": 20,
     "metadata": {},
     "output_type": "execute_result"
    }
   ],
   "source": [
    "sent_tokenize(text)"
   ]
  },
  {
   "cell_type": "code",
   "execution_count": 40,
   "metadata": {},
   "outputs": [],
   "source": [
    "text_india = '''India, officially the Republic of India,[j][20] is a country in South Asia. It is the seventh-largest country in the world by area and the most populous country. Bounded by the Indian Ocean on the south, the Arabian Sea on the southwest, and the Bay of Bengal on the southeast, it shares land borders with Pakistan to the west;[k] China, Nepal, and Bhutan to the north; and Bangladesh and Myanmar to the east. In the Indian Ocean, India is in the vicinity of Sri Lanka and the Maldives; its Andaman and Nicobar Islands share a maritime border with Thailand, Myanmar, and Indonesia.\n",
    "Modern humans arrived on the Indian subcontinent from Africa no later than 55,000 years ago.[22][23][24] Their long occupation, initially in varying forms of isolation as hunter-gatherers, has made the region highly diverse, second only to Africa in human genetic diversity.[25] Settled life emerged on the subcontinent in the western margins of the Indus river basin 9,000 years ago, evolving gradually into the Indus Valley Civilisation of the third millennium BCE.[26] By at least 1200 BCE, an archaic form of Sanskrit, an Indo-European language, had diffused into India from the northwest.[27][28] Its evidence today is found in the hymns of the Rigveda. Preserved by an oral tradition that was resolutely vigilant, the Rigveda records the dawning of Hinduism in India.[29] The Dravidian languages of India were supplanted in the northern and western regions.[30] By 400 BCE, stratification and exclusion by caste had emerged within Hinduism,[31] and Buddhism and Jainism had arisen, proclaiming social orders unlinked to heredity.[32] Early political consolidations gave rise to the loose-knit Maurya and Gupta Empires based in the Ganges Basin.[33] Their collective era was suffused with wide-ranging creativity,[34] but also marked by the declining status of women,[35] and the incorporation of untouchability into an organised system of belief.[l][36] The Middle kingdoms exported Sanskrit language, south Indian scripts and religions of Hinduism and Buddhism to the Southeast Asia.[37]\n",
    "'''"
   ]
  },
  {
   "cell_type": "code",
   "execution_count": 41,
   "metadata": {},
   "outputs": [
    {
     "data": {
      "text/plain": [
       "'India, officially the Republic of India,[j][20] is a country in South Asia. It is the seventh-largest country in the world by area and the most populous country. Bounded by the Indian Ocean on the south, the Arabian Sea on the southwest, and the Bay of Bengal on the southeast, it shares land borders with Pakistan to the west;[k] China, Nepal, and Bhutan to the north; and Bangladesh and Myanmar to the east. In the Indian Ocean, India is in the vicinity of Sri Lanka and the Maldives; its Andaman and Nicobar Islands share a maritime border with Thailand, Myanmar, and Indonesia.\\nModern humans arrived on the Indian subcontinent from Africa no later than 55,000 years ago.[22][23][24] Their long occupation, initially in varying forms of isolation as hunter-gatherers, has made the region highly diverse, second only to Africa in human genetic diversity.[25] Settled life emerged on the subcontinent in the western margins of the Indus river basin 9,000 years ago, evolving gradually into the Indus Valley Civilisation of the third millennium BCE.[26] By at least 1200 BCE, an archaic form of Sanskrit, an Indo-European language, had diffused into India from the northwest.[27][28] Its evidence today is found in the hymns of the Rigveda. Preserved by an oral tradition that was resolutely vigilant, the Rigveda records the dawning of Hinduism in India.[29] The Dravidian languages of India were supplanted in the northern and western regions.[30] By 400 BCE, stratification and exclusion by caste had emerged within Hinduism,[31] and Buddhism and Jainism had arisen, proclaiming social orders unlinked to heredity.[32] Early political consolidations gave rise to the loose-knit Maurya and Gupta Empires based in the Ganges Basin.[33] Their collective era was suffused with wide-ranging creativity,[34] but also marked by the declining status of women,[35] and the incorporation of untouchability into an organised system of belief.[l][36] The Middle kingdoms exported Sanskrit language, south Indian scripts and religions of Hinduism and Buddhism to the Southeast Asia.[37]\\n'"
      ]
     },
     "execution_count": 41,
     "metadata": {},
     "output_type": "execute_result"
    }
   ],
   "source": [
    "text_india"
   ]
  },
  {
   "cell_type": "code",
   "execution_count": 45,
   "metadata": {},
   "outputs": [
    {
     "name": "stdout",
     "output_type": "stream",
     "text": [
      "The sentence with the maximum number of 'the' is: Bounded by the Indian Ocean on the south, the Arabian Sea on the southwest, and the Bay of Bengal on the southeast, it shares land borders with Pakistan to the west;[k] China, Nepal, and Bhutan to the north; and Bangladesh and Myanmar to the east.\n",
      "It appears 9 times.\n"
     ]
    }
   ],
   "source": [
    "# Print the sentence which contains the maximum number of the word \"the\" in the given paragraph..\n",
    "\n",
    "tokenized_input = sent_tokenize(text_india)\n",
    "\n",
    "max_count = 0\n",
    "max_sentence = \"\"  # To store the sentence with the maximum count of 'the'\n",
    "\n",
    "# Iterate through each sentence\n",
    "for sentence in tokenized_input:\n",
    "    words = word_tokenize(sentence) # Tokenize the sentence into words\n",
    "       \n",
    "    # Count occurrences of \"the\" (case insensitive)\n",
    "    count_the = words.count('the') + words.count('The')  # case-insensitive count\n",
    "    \n",
    "    # Update the sentence with the maximum count of \"the\"\n",
    "    if count_the > max_count:\n",
    "        max_count = count_the\n",
    "        max_sentence = sentence\n",
    "\n",
    "# Output the sentence with the maximum count of \"the\"\n",
    "print(f\"The sentence with the maximum number of 'the' is: {max_sentence}\")\n",
    "print(f\"It appears {max_count} times.\")"
   ]
  },
  {
   "cell_type": "markdown",
   "metadata": {},
   "source": [
    "#### Whitespace Tokenizer"
   ]
  },
  {
   "cell_type": "code",
   "execution_count": 49,
   "metadata": {},
   "outputs": [],
   "source": [
    "from nltk.tokenize import WhitespaceTokenizer"
   ]
  },
  {
   "cell_type": "code",
   "execution_count": 52,
   "metadata": {},
   "outputs": [],
   "source": [
    "tk = WhitespaceTokenizer()"
   ]
  },
  {
   "cell_type": "code",
   "execution_count": 53,
   "metadata": {},
   "outputs": [
    {
     "data": {
      "text/plain": [
       "['India,',\n",
       " 'officially',\n",
       " 'the',\n",
       " 'Republic',\n",
       " 'of',\n",
       " 'India,[j][20]',\n",
       " 'is',\n",
       " 'a',\n",
       " 'country',\n",
       " 'in',\n",
       " 'South',\n",
       " 'Asia.',\n",
       " 'It',\n",
       " 'is',\n",
       " 'the',\n",
       " 'seventh-largest',\n",
       " 'country',\n",
       " 'in',\n",
       " 'the',\n",
       " 'world',\n",
       " 'by',\n",
       " 'area',\n",
       " 'and',\n",
       " 'the',\n",
       " 'most',\n",
       " 'populous',\n",
       " 'country.',\n",
       " 'Bounded',\n",
       " 'by',\n",
       " 'the',\n",
       " 'Indian',\n",
       " 'Ocean',\n",
       " 'on',\n",
       " 'the',\n",
       " 'south,',\n",
       " 'the',\n",
       " 'Arabian',\n",
       " 'Sea',\n",
       " 'on',\n",
       " 'the',\n",
       " 'southwest,',\n",
       " 'and',\n",
       " 'the',\n",
       " 'Bay',\n",
       " 'of',\n",
       " 'Bengal',\n",
       " 'on',\n",
       " 'the',\n",
       " 'southeast,',\n",
       " 'it',\n",
       " 'shares',\n",
       " 'land',\n",
       " 'borders',\n",
       " 'with',\n",
       " 'Pakistan',\n",
       " 'to',\n",
       " 'the',\n",
       " 'west;[k]',\n",
       " 'China,',\n",
       " 'Nepal,',\n",
       " 'and',\n",
       " 'Bhutan',\n",
       " 'to',\n",
       " 'the',\n",
       " 'north;',\n",
       " 'and',\n",
       " 'Bangladesh',\n",
       " 'and',\n",
       " 'Myanmar',\n",
       " 'to',\n",
       " 'the',\n",
       " 'east.',\n",
       " 'In',\n",
       " 'the',\n",
       " 'Indian',\n",
       " 'Ocean,',\n",
       " 'India',\n",
       " 'is',\n",
       " 'in',\n",
       " 'the',\n",
       " 'vicinity',\n",
       " 'of',\n",
       " 'Sri',\n",
       " 'Lanka',\n",
       " 'and',\n",
       " 'the',\n",
       " 'Maldives;',\n",
       " 'its',\n",
       " 'Andaman',\n",
       " 'and',\n",
       " 'Nicobar',\n",
       " 'Islands',\n",
       " 'share',\n",
       " 'a',\n",
       " 'maritime',\n",
       " 'border',\n",
       " 'with',\n",
       " 'Thailand,',\n",
       " 'Myanmar,',\n",
       " 'and',\n",
       " 'Indonesia.',\n",
       " 'Modern',\n",
       " 'humans',\n",
       " 'arrived',\n",
       " 'on',\n",
       " 'the',\n",
       " 'Indian',\n",
       " 'subcontinent',\n",
       " 'from',\n",
       " 'Africa',\n",
       " 'no',\n",
       " 'later',\n",
       " 'than',\n",
       " '55,000',\n",
       " 'years',\n",
       " 'ago.[22][23][24]',\n",
       " 'Their',\n",
       " 'long',\n",
       " 'occupation,',\n",
       " 'initially',\n",
       " 'in',\n",
       " 'varying',\n",
       " 'forms',\n",
       " 'of',\n",
       " 'isolation',\n",
       " 'as',\n",
       " 'hunter-gatherers,',\n",
       " 'has',\n",
       " 'made',\n",
       " 'the',\n",
       " 'region',\n",
       " 'highly',\n",
       " 'diverse,',\n",
       " 'second',\n",
       " 'only',\n",
       " 'to',\n",
       " 'Africa',\n",
       " 'in',\n",
       " 'human',\n",
       " 'genetic',\n",
       " 'diversity.[25]',\n",
       " 'Settled',\n",
       " 'life',\n",
       " 'emerged',\n",
       " 'on',\n",
       " 'the',\n",
       " 'subcontinent',\n",
       " 'in',\n",
       " 'the',\n",
       " 'western',\n",
       " 'margins',\n",
       " 'of',\n",
       " 'the',\n",
       " 'Indus',\n",
       " 'river',\n",
       " 'basin',\n",
       " '9,000',\n",
       " 'years',\n",
       " 'ago,',\n",
       " 'evolving',\n",
       " 'gradually',\n",
       " 'into',\n",
       " 'the',\n",
       " 'Indus',\n",
       " 'Valley',\n",
       " 'Civilisation',\n",
       " 'of',\n",
       " 'the',\n",
       " 'third',\n",
       " 'millennium',\n",
       " 'BCE.[26]',\n",
       " 'By',\n",
       " 'at',\n",
       " 'least',\n",
       " '1200',\n",
       " 'BCE,',\n",
       " 'an',\n",
       " 'archaic',\n",
       " 'form',\n",
       " 'of',\n",
       " 'Sanskrit,',\n",
       " 'an',\n",
       " 'Indo-European',\n",
       " 'language,',\n",
       " 'had',\n",
       " 'diffused',\n",
       " 'into',\n",
       " 'India',\n",
       " 'from',\n",
       " 'the',\n",
       " 'northwest.[27][28]',\n",
       " 'Its',\n",
       " 'evidence',\n",
       " 'today',\n",
       " 'is',\n",
       " 'found',\n",
       " 'in',\n",
       " 'the',\n",
       " 'hymns',\n",
       " 'of',\n",
       " 'the',\n",
       " 'Rigveda.',\n",
       " 'Preserved',\n",
       " 'by',\n",
       " 'an',\n",
       " 'oral',\n",
       " 'tradition',\n",
       " 'that',\n",
       " 'was',\n",
       " 'resolutely',\n",
       " 'vigilant,',\n",
       " 'the',\n",
       " 'Rigveda',\n",
       " 'records',\n",
       " 'the',\n",
       " 'dawning',\n",
       " 'of',\n",
       " 'Hinduism',\n",
       " 'in',\n",
       " 'India.[29]',\n",
       " 'The',\n",
       " 'Dravidian',\n",
       " 'languages',\n",
       " 'of',\n",
       " 'India',\n",
       " 'were',\n",
       " 'supplanted',\n",
       " 'in',\n",
       " 'the',\n",
       " 'northern',\n",
       " 'and',\n",
       " 'western',\n",
       " 'regions.[30]',\n",
       " 'By',\n",
       " '400',\n",
       " 'BCE,',\n",
       " 'stratification',\n",
       " 'and',\n",
       " 'exclusion',\n",
       " 'by',\n",
       " 'caste',\n",
       " 'had',\n",
       " 'emerged',\n",
       " 'within',\n",
       " 'Hinduism,[31]',\n",
       " 'and',\n",
       " 'Buddhism',\n",
       " 'and',\n",
       " 'Jainism',\n",
       " 'had',\n",
       " 'arisen,',\n",
       " 'proclaiming',\n",
       " 'social',\n",
       " 'orders',\n",
       " 'unlinked',\n",
       " 'to',\n",
       " 'heredity.[32]',\n",
       " 'Early',\n",
       " 'political',\n",
       " 'consolidations',\n",
       " 'gave',\n",
       " 'rise',\n",
       " 'to',\n",
       " 'the',\n",
       " 'loose-knit',\n",
       " 'Maurya',\n",
       " 'and',\n",
       " 'Gupta',\n",
       " 'Empires',\n",
       " 'based',\n",
       " 'in',\n",
       " 'the',\n",
       " 'Ganges',\n",
       " 'Basin.[33]',\n",
       " 'Their',\n",
       " 'collective',\n",
       " 'era',\n",
       " 'was',\n",
       " 'suffused',\n",
       " 'with',\n",
       " 'wide-ranging',\n",
       " 'creativity,[34]',\n",
       " 'but',\n",
       " 'also',\n",
       " 'marked',\n",
       " 'by',\n",
       " 'the',\n",
       " 'declining',\n",
       " 'status',\n",
       " 'of',\n",
       " 'women,[35]',\n",
       " 'and',\n",
       " 'the',\n",
       " 'incorporation',\n",
       " 'of',\n",
       " 'untouchability',\n",
       " 'into',\n",
       " 'an',\n",
       " 'organised',\n",
       " 'system',\n",
       " 'of',\n",
       " 'belief.[l][36]',\n",
       " 'The',\n",
       " 'Middle',\n",
       " 'kingdoms',\n",
       " 'exported',\n",
       " 'Sanskrit',\n",
       " 'language,',\n",
       " 'south',\n",
       " 'Indian',\n",
       " 'scripts',\n",
       " 'and',\n",
       " 'religions',\n",
       " 'of',\n",
       " 'Hinduism',\n",
       " 'and',\n",
       " 'Buddhism',\n",
       " 'to',\n",
       " 'the',\n",
       " 'Southeast',\n",
       " 'Asia.[37]']"
      ]
     },
     "execution_count": 53,
     "metadata": {},
     "output_type": "execute_result"
    }
   ],
   "source": [
    "tk.tokenize(text_india)"
   ]
  },
  {
   "cell_type": "markdown",
   "metadata": {},
   "source": [
    "#### Space Tokenizer"
   ]
  },
  {
   "cell_type": "code",
   "execution_count": 57,
   "metadata": {},
   "outputs": [],
   "source": [
    "from nltk.tokenize import SpaceTokenizer"
   ]
  },
  {
   "cell_type": "code",
   "execution_count": 58,
   "metadata": {},
   "outputs": [],
   "source": [
    "tk = SpaceTokenizer()"
   ]
  },
  {
   "cell_type": "code",
   "execution_count": 59,
   "metadata": {},
   "outputs": [
    {
     "name": "stdout",
     "output_type": "stream",
     "text": [
      "India, officially the Republic of India,[j][20] is a country in South Asia. It is the seventh-largest country in the world by area and the most populous country. Bounded by the Indian Ocean on the south, the Arabian Sea on the southwest, and the Bay of Bengal on the southeast, it shares land borders with Pakistan to the west;[k] China, Nepal, and Bhutan to the north; and Bangladesh and Myanmar to the east. In the Indian Ocean, India is in the vicinity of Sri Lanka and the Maldives; its Andaman and Nicobar Islands share a maritime border with Thailand, Myanmar, and Indonesia.\n",
      "Modern humans arrived on the Indian subcontinent from Africa no later than 55,000 years ago.[22][23][24] Their long occupation, initially in varying forms of isolation as hunter-gatherers, has made the region highly diverse, second only to Africa in human genetic diversity.[25] Settled life emerged on the subcontinent in the western margins of the Indus river basin 9,000 years ago, evolving gradually into the Indus Valley Civilisation of the third millennium BCE.[26] By at least 1200 BCE, an archaic form of Sanskrit, an Indo-European language, had diffused into India from the northwest.[27][28] Its evidence today is found in the hymns of the Rigveda. Preserved by an oral tradition that was resolutely vigilant, the Rigveda records the dawning of Hinduism in India.[29] The Dravidian languages of India were supplanted in the northern and western regions.[30] By 400 BCE, stratification and exclusion by caste had emerged within Hinduism,[31] and Buddhism and Jainism had arisen, proclaiming social orders unlinked to heredity.[32] Early political consolidations gave rise to the loose-knit Maurya and Gupta Empires based in the Ganges Basin.[33] Their collective era was suffused with wide-ranging creativity,[34] but also marked by the declining status of women,[35] and the incorporation of untouchability into an organised system of belief.[l][36] The Middle kingdoms exported Sanskrit language, south Indian scripts and religions of Hinduism and Buddhism to the Southeast Asia.[37]\n",
      "\n"
     ]
    }
   ],
   "source": [
    "print(text_india)"
   ]
  },
  {
   "cell_type": "code",
   "execution_count": 60,
   "metadata": {},
   "outputs": [
    {
     "data": {
      "text/plain": [
       "['India,',\n",
       " 'officially',\n",
       " 'the',\n",
       " 'Republic',\n",
       " 'of',\n",
       " 'India,[j][20]',\n",
       " 'is',\n",
       " 'a',\n",
       " 'country',\n",
       " 'in',\n",
       " 'South',\n",
       " 'Asia.',\n",
       " 'It',\n",
       " 'is',\n",
       " 'the',\n",
       " 'seventh-largest',\n",
       " 'country',\n",
       " 'in',\n",
       " 'the',\n",
       " 'world',\n",
       " 'by',\n",
       " 'area',\n",
       " 'and',\n",
       " 'the',\n",
       " 'most',\n",
       " 'populous',\n",
       " 'country.',\n",
       " 'Bounded',\n",
       " 'by',\n",
       " 'the',\n",
       " 'Indian',\n",
       " 'Ocean',\n",
       " 'on',\n",
       " 'the',\n",
       " 'south,',\n",
       " 'the',\n",
       " 'Arabian',\n",
       " 'Sea',\n",
       " 'on',\n",
       " 'the',\n",
       " 'southwest,',\n",
       " 'and',\n",
       " 'the',\n",
       " 'Bay',\n",
       " 'of',\n",
       " 'Bengal',\n",
       " 'on',\n",
       " 'the',\n",
       " 'southeast,',\n",
       " 'it',\n",
       " 'shares',\n",
       " 'land',\n",
       " 'borders',\n",
       " 'with',\n",
       " 'Pakistan',\n",
       " 'to',\n",
       " 'the',\n",
       " 'west;[k]',\n",
       " 'China,',\n",
       " 'Nepal,',\n",
       " 'and',\n",
       " 'Bhutan',\n",
       " 'to',\n",
       " 'the',\n",
       " 'north;',\n",
       " 'and',\n",
       " 'Bangladesh',\n",
       " 'and',\n",
       " 'Myanmar',\n",
       " 'to',\n",
       " 'the',\n",
       " 'east.',\n",
       " 'In',\n",
       " 'the',\n",
       " 'Indian',\n",
       " 'Ocean,',\n",
       " 'India',\n",
       " 'is',\n",
       " 'in',\n",
       " 'the',\n",
       " 'vicinity',\n",
       " 'of',\n",
       " 'Sri',\n",
       " 'Lanka',\n",
       " 'and',\n",
       " 'the',\n",
       " 'Maldives;',\n",
       " 'its',\n",
       " 'Andaman',\n",
       " 'and',\n",
       " 'Nicobar',\n",
       " 'Islands',\n",
       " 'share',\n",
       " 'a',\n",
       " 'maritime',\n",
       " 'border',\n",
       " 'with',\n",
       " 'Thailand,',\n",
       " 'Myanmar,',\n",
       " 'and',\n",
       " 'Indonesia.\\nModern',\n",
       " 'humans',\n",
       " 'arrived',\n",
       " 'on',\n",
       " 'the',\n",
       " 'Indian',\n",
       " 'subcontinent',\n",
       " 'from',\n",
       " 'Africa',\n",
       " 'no',\n",
       " 'later',\n",
       " 'than',\n",
       " '55,000',\n",
       " 'years',\n",
       " 'ago.[22][23][24]',\n",
       " 'Their',\n",
       " 'long',\n",
       " 'occupation,',\n",
       " 'initially',\n",
       " 'in',\n",
       " 'varying',\n",
       " 'forms',\n",
       " 'of',\n",
       " 'isolation',\n",
       " 'as',\n",
       " 'hunter-gatherers,',\n",
       " 'has',\n",
       " 'made',\n",
       " 'the',\n",
       " 'region',\n",
       " 'highly',\n",
       " 'diverse,',\n",
       " 'second',\n",
       " 'only',\n",
       " 'to',\n",
       " 'Africa',\n",
       " 'in',\n",
       " 'human',\n",
       " 'genetic',\n",
       " 'diversity.[25]',\n",
       " 'Settled',\n",
       " 'life',\n",
       " 'emerged',\n",
       " 'on',\n",
       " 'the',\n",
       " 'subcontinent',\n",
       " 'in',\n",
       " 'the',\n",
       " 'western',\n",
       " 'margins',\n",
       " 'of',\n",
       " 'the',\n",
       " 'Indus',\n",
       " 'river',\n",
       " 'basin',\n",
       " '9,000',\n",
       " 'years',\n",
       " 'ago,',\n",
       " 'evolving',\n",
       " 'gradually',\n",
       " 'into',\n",
       " 'the',\n",
       " 'Indus',\n",
       " 'Valley',\n",
       " 'Civilisation',\n",
       " 'of',\n",
       " 'the',\n",
       " 'third',\n",
       " 'millennium',\n",
       " 'BCE.[26]',\n",
       " 'By',\n",
       " 'at',\n",
       " 'least',\n",
       " '1200',\n",
       " 'BCE,',\n",
       " 'an',\n",
       " 'archaic',\n",
       " 'form',\n",
       " 'of',\n",
       " 'Sanskrit,',\n",
       " 'an',\n",
       " 'Indo-European',\n",
       " 'language,',\n",
       " 'had',\n",
       " 'diffused',\n",
       " 'into',\n",
       " 'India',\n",
       " 'from',\n",
       " 'the',\n",
       " 'northwest.[27][28]',\n",
       " 'Its',\n",
       " 'evidence',\n",
       " 'today',\n",
       " 'is',\n",
       " 'found',\n",
       " 'in',\n",
       " 'the',\n",
       " 'hymns',\n",
       " 'of',\n",
       " 'the',\n",
       " 'Rigveda.',\n",
       " 'Preserved',\n",
       " 'by',\n",
       " 'an',\n",
       " 'oral',\n",
       " 'tradition',\n",
       " 'that',\n",
       " 'was',\n",
       " 'resolutely',\n",
       " 'vigilant,',\n",
       " 'the',\n",
       " 'Rigveda',\n",
       " 'records',\n",
       " 'the',\n",
       " 'dawning',\n",
       " 'of',\n",
       " 'Hinduism',\n",
       " 'in',\n",
       " 'India.[29]',\n",
       " 'The',\n",
       " 'Dravidian',\n",
       " 'languages',\n",
       " 'of',\n",
       " 'India',\n",
       " 'were',\n",
       " 'supplanted',\n",
       " 'in',\n",
       " 'the',\n",
       " 'northern',\n",
       " 'and',\n",
       " 'western',\n",
       " 'regions.[30]',\n",
       " 'By',\n",
       " '400',\n",
       " 'BCE,',\n",
       " 'stratification',\n",
       " 'and',\n",
       " 'exclusion',\n",
       " 'by',\n",
       " 'caste',\n",
       " 'had',\n",
       " 'emerged',\n",
       " 'within',\n",
       " 'Hinduism,[31]',\n",
       " 'and',\n",
       " 'Buddhism',\n",
       " 'and',\n",
       " 'Jainism',\n",
       " 'had',\n",
       " 'arisen,',\n",
       " 'proclaiming',\n",
       " 'social',\n",
       " 'orders',\n",
       " 'unlinked',\n",
       " 'to',\n",
       " 'heredity.[32]',\n",
       " 'Early',\n",
       " 'political',\n",
       " 'consolidations',\n",
       " 'gave',\n",
       " 'rise',\n",
       " 'to',\n",
       " 'the',\n",
       " 'loose-knit',\n",
       " 'Maurya',\n",
       " 'and',\n",
       " 'Gupta',\n",
       " 'Empires',\n",
       " 'based',\n",
       " 'in',\n",
       " 'the',\n",
       " 'Ganges',\n",
       " 'Basin.[33]',\n",
       " 'Their',\n",
       " 'collective',\n",
       " 'era',\n",
       " 'was',\n",
       " 'suffused',\n",
       " 'with',\n",
       " 'wide-ranging',\n",
       " 'creativity,[34]',\n",
       " 'but',\n",
       " 'also',\n",
       " 'marked',\n",
       " 'by',\n",
       " 'the',\n",
       " 'declining',\n",
       " 'status',\n",
       " 'of',\n",
       " 'women,[35]',\n",
       " 'and',\n",
       " 'the',\n",
       " 'incorporation',\n",
       " 'of',\n",
       " 'untouchability',\n",
       " 'into',\n",
       " 'an',\n",
       " 'organised',\n",
       " 'system',\n",
       " 'of',\n",
       " 'belief.[l][36]',\n",
       " 'The',\n",
       " 'Middle',\n",
       " 'kingdoms',\n",
       " 'exported',\n",
       " 'Sanskrit',\n",
       " 'language,',\n",
       " 'south',\n",
       " 'Indian',\n",
       " 'scripts',\n",
       " 'and',\n",
       " 'religions',\n",
       " 'of',\n",
       " 'Hinduism',\n",
       " 'and',\n",
       " 'Buddhism',\n",
       " 'to',\n",
       " 'the',\n",
       " 'Southeast',\n",
       " 'Asia.[37]\\n']"
      ]
     },
     "execution_count": 60,
     "metadata": {},
     "output_type": "execute_result"
    }
   ],
   "source": [
    "tk.tokenize(text_india)"
   ]
  },
  {
   "cell_type": "markdown",
   "metadata": {},
   "source": [
    "#### Line Tokenizer"
   ]
  },
  {
   "cell_type": "code",
   "execution_count": 64,
   "metadata": {},
   "outputs": [],
   "source": [
    "from nltk.tokenize import LineTokenizer"
   ]
  },
  {
   "cell_type": "code",
   "execution_count": 65,
   "metadata": {},
   "outputs": [],
   "source": [
    "tk = LineTokenizer()"
   ]
  },
  {
   "cell_type": "code",
   "execution_count": 66,
   "metadata": {},
   "outputs": [
    {
     "data": {
      "text/plain": [
       "['India, officially the Republic of India,[j][20] is a country in South Asia. It is the seventh-largest country in the world by area and the most populous country. Bounded by the Indian Ocean on the south, the Arabian Sea on the southwest, and the Bay of Bengal on the southeast, it shares land borders with Pakistan to the west;[k] China, Nepal, and Bhutan to the north; and Bangladesh and Myanmar to the east. In the Indian Ocean, India is in the vicinity of Sri Lanka and the Maldives; its Andaman and Nicobar Islands share a maritime border with Thailand, Myanmar, and Indonesia.',\n",
       " 'Modern humans arrived on the Indian subcontinent from Africa no later than 55,000 years ago.[22][23][24] Their long occupation, initially in varying forms of isolation as hunter-gatherers, has made the region highly diverse, second only to Africa in human genetic diversity.[25] Settled life emerged on the subcontinent in the western margins of the Indus river basin 9,000 years ago, evolving gradually into the Indus Valley Civilisation of the third millennium BCE.[26] By at least 1200 BCE, an archaic form of Sanskrit, an Indo-European language, had diffused into India from the northwest.[27][28] Its evidence today is found in the hymns of the Rigveda. Preserved by an oral tradition that was resolutely vigilant, the Rigveda records the dawning of Hinduism in India.[29] The Dravidian languages of India were supplanted in the northern and western regions.[30] By 400 BCE, stratification and exclusion by caste had emerged within Hinduism,[31] and Buddhism and Jainism had arisen, proclaiming social orders unlinked to heredity.[32] Early political consolidations gave rise to the loose-knit Maurya and Gupta Empires based in the Ganges Basin.[33] Their collective era was suffused with wide-ranging creativity,[34] but also marked by the declining status of women,[35] and the incorporation of untouchability into an organised system of belief.[l][36] The Middle kingdoms exported Sanskrit language, south Indian scripts and religions of Hinduism and Buddhism to the Southeast Asia.[37]']"
      ]
     },
     "execution_count": 66,
     "metadata": {},
     "output_type": "execute_result"
    }
   ],
   "source": [
    "tk.tokenize(text_india)"
   ]
  },
  {
   "cell_type": "markdown",
   "metadata": {},
   "source": [
    "#### Tab Tokenizer"
   ]
  },
  {
   "cell_type": "code",
   "execution_count": 67,
   "metadata": {},
   "outputs": [],
   "source": [
    "from nltk.tokenize import TabTokenizer"
   ]
  },
  {
   "cell_type": "code",
   "execution_count": 68,
   "metadata": {},
   "outputs": [],
   "source": [
    "tk = TabTokenizer()"
   ]
  },
  {
   "cell_type": "code",
   "execution_count": null,
   "metadata": {},
   "outputs": [],
   "source": [
    "text_tab = '''Hello friends!\n",
    "How are you? Welcome to the word of \\tPython \\tProgramming\n",
    "'''"
   ]
  },
  {
   "cell_type": "code",
   "execution_count": 77,
   "metadata": {},
   "outputs": [
    {
     "data": {
      "text/plain": [
       "['Hello friends!\\nHow are you? Welcome to the word of ',\n",
       " 'Python ',\n",
       " 'Programming\\n']"
      ]
     },
     "execution_count": 77,
     "metadata": {},
     "output_type": "execute_result"
    }
   ],
   "source": [
    "tk.tokenize(text_tab)"
   ]
  },
  {
   "cell_type": "markdown",
   "metadata": {},
   "source": [
    "#### Tweek Tokenizer"
   ]
  },
  {
   "cell_type": "code",
   "execution_count": 78,
   "metadata": {},
   "outputs": [],
   "source": [
    "from nltk.tokenize import TweetTokenizer"
   ]
  },
  {
   "cell_type": "code",
   "execution_count": 79,
   "metadata": {},
   "outputs": [],
   "source": [
    "tk = TweetTokenizer()"
   ]
  },
  {
   "cell_type": "code",
   "execution_count": 89,
   "metadata": {},
   "outputs": [],
   "source": [
    "text_tweek = '''Hello friends!:) 👋\n",
    "How are you? 🙂 Welcome :$ to the world⚪️ of Python 🐍.\n",
    "'''"
   ]
  },
  {
   "cell_type": "code",
   "execution_count": 90,
   "metadata": {},
   "outputs": [
    {
     "data": {
      "text/plain": [
       "['Hello',\n",
       " 'friends',\n",
       " '!',\n",
       " ':)',\n",
       " '👋',\n",
       " 'How',\n",
       " 'are',\n",
       " 'you',\n",
       " '?',\n",
       " '🙂',\n",
       " 'Welcome',\n",
       " ':',\n",
       " '$',\n",
       " 'to',\n",
       " 'the',\n",
       " 'world',\n",
       " '⚪',\n",
       " '️',\n",
       " 'of',\n",
       " 'Python',\n",
       " '🐍',\n",
       " '.']"
      ]
     },
     "execution_count": 90,
     "metadata": {},
     "output_type": "execute_result"
    }
   ],
   "source": [
    "tk.tokenize(text_tweek)"
   ]
  },
  {
   "cell_type": "markdown",
   "metadata": {},
   "source": [
    "#### Multi-word Extension(MWE) Tokenizer "
   ]
  },
  {
   "cell_type": "code",
   "execution_count": 102,
   "metadata": {},
   "outputs": [],
   "source": [
    "from nltk.tokenize import MWETokenizer"
   ]
  },
  {
   "cell_type": "code",
   "execution_count": 103,
   "metadata": {},
   "outputs": [],
   "source": [
    "tk = MWETokenizer()"
   ]
  },
  {
   "cell_type": "code",
   "execution_count": 108,
   "metadata": {},
   "outputs": [],
   "source": [
    "tk = MWETokenizer(separator=' ')"
   ]
  },
  {
   "cell_type": "code",
   "execution_count": 109,
   "metadata": {},
   "outputs": [],
   "source": [
    "tk.add_mwe(('Van', 'Rossom'))"
   ]
  },
  {
   "cell_type": "code",
   "execution_count": 110,
   "metadata": {},
   "outputs": [],
   "source": [
    "text_multiwordextension = \"Van Rossom is in Pune today. We welcomed Van Rossom here\""
   ]
  },
  {
   "cell_type": "code",
   "execution_count": 111,
   "metadata": {},
   "outputs": [
    {
     "data": {
      "text/plain": [
       "['Van Rossom',\n",
       " 'is',\n",
       " 'in',\n",
       " 'Pune',\n",
       " 'today',\n",
       " '.',\n",
       " 'We',\n",
       " 'welcomed',\n",
       " 'Van Rossom',\n",
       " 'here']"
      ]
     },
     "execution_count": 111,
     "metadata": {},
     "output_type": "execute_result"
    }
   ],
   "source": [
    "tk.tokenize(word_tokenize(text_multiwordextension))"
   ]
  },
  {
   "cell_type": "markdown",
   "metadata": {},
   "source": [
    "#### Custom Tokenizer"
   ]
  },
  {
   "cell_type": "code",
   "execution_count": 113,
   "metadata": {},
   "outputs": [
    {
     "name": "stdout",
     "output_type": "stream",
     "text": [
      "Tokens:\n",
      "This\n",
      "is\n",
      "some\n",
      "text\n",
      "with\n",
      "punctuation\n",
      ">\n",
      "Let's\n",
      "tokenize\n",
      "it\n",
      "Is\n",
      "it\n",
      "ok\n",
      "\n"
     ]
    }
   ],
   "source": [
    "import re\n",
    "\n",
    "def custom_tokenizer(text):\n",
    "    return re.split(r'[.,;?\\s]+', text)\n",
    "\n",
    "text = \"This is some text with punctuation > Let's tokenize it. Is it ok?\"\n",
    "\n",
    "tokens = custom_tokenizer(text)\n",
    "\n",
    "print(\"Tokens:\")\n",
    "for token in tokens:\n",
    "    print(token)"
   ]
  }
 ],
 "metadata": {
  "kernelspec": {
   "display_name": "Python 3",
   "language": "python",
   "name": "python3"
  },
  "language_info": {
   "codemirror_mode": {
    "name": "ipython",
    "version": 3
   },
   "file_extension": ".py",
   "mimetype": "text/x-python",
   "name": "python",
   "nbconvert_exporter": "python",
   "pygments_lexer": "ipython3",
   "version": "3.12.6"
  }
 },
 "nbformat": 4,
 "nbformat_minor": 2
}
