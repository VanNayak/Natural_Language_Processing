{
 "cells": [
  {
   "cell_type": "code",
   "execution_count": 1,
   "metadata": {},
   "outputs": [
    {
     "name": "stdout",
     "output_type": "stream",
     "text": [
      "Requirement already satisfied: gtts in c:\\users\\dai.studentsdc\\desktop\\4.machinelearning\\.conda\\lib\\site-packages (2.5.4)\n",
      "Requirement already satisfied: playsound in c:\\users\\dai.studentsdc\\desktop\\4.machinelearning\\.conda\\lib\\site-packages (1.3.0)\n",
      "Requirement already satisfied: pyttsx3 in c:\\users\\dai.studentsdc\\desktop\\4.machinelearning\\.conda\\lib\\site-packages (2.98)\n",
      "Requirement already satisfied: requests<3,>=2.27 in c:\\users\\dai.studentsdc\\desktop\\4.machinelearning\\.conda\\lib\\site-packages (from gtts) (2.32.3)\n",
      "Requirement already satisfied: click<8.2,>=7.1 in c:\\users\\dai.studentsdc\\desktop\\4.machinelearning\\.conda\\lib\\site-packages (from gtts) (8.1.7)\n",
      "Requirement already satisfied: comtypes in c:\\users\\dai.studentsdc\\desktop\\4.machinelearning\\.conda\\lib\\site-packages (from pyttsx3) (1.4.8)\n",
      "Requirement already satisfied: pypiwin32 in c:\\users\\dai.studentsdc\\desktop\\4.machinelearning\\.conda\\lib\\site-packages (from pyttsx3) (223)\n",
      "Requirement already satisfied: pywin32 in c:\\users\\dai.studentsdc\\desktop\\4.machinelearning\\.conda\\lib\\site-packages (from pyttsx3) (305.1)\n",
      "Requirement already satisfied: colorama in c:\\users\\dai.studentsdc\\desktop\\4.machinelearning\\.conda\\lib\\site-packages (from click<8.2,>=7.1->gtts) (0.4.6)\n",
      "Requirement already satisfied: charset-normalizer<4,>=2 in c:\\users\\dai.studentsdc\\desktop\\4.machinelearning\\.conda\\lib\\site-packages (from requests<3,>=2.27->gtts) (3.3.2)\n",
      "Requirement already satisfied: idna<4,>=2.5 in c:\\users\\dai.studentsdc\\desktop\\4.machinelearning\\.conda\\lib\\site-packages (from requests<3,>=2.27->gtts) (3.7)\n",
      "Requirement already satisfied: urllib3<3,>=1.21.1 in c:\\users\\dai.studentsdc\\desktop\\4.machinelearning\\.conda\\lib\\site-packages (from requests<3,>=2.27->gtts) (2.2.3)\n",
      "Requirement already satisfied: certifi>=2017.4.17 in c:\\users\\dai.studentsdc\\desktop\\4.machinelearning\\.conda\\lib\\site-packages (from requests<3,>=2.27->gtts) (2024.8.30)\n"
     ]
    }
   ],
   "source": [
    "# Intall Libraries\n",
    "\n",
    "!pip install gtts playsound pyttsx3 -U --user"
   ]
  },
  {
   "cell_type": "code",
   "execution_count": 2,
   "metadata": {},
   "outputs": [],
   "source": [
    "# Import the libraries\n",
    "\n",
    "from gtts import gTTS                  # Class\n",
    "from playsound import playsound        # Function"
   ]
  },
  {
   "cell_type": "code",
   "execution_count": 3,
   "metadata": {},
   "outputs": [],
   "source": [
    "# Create the TTS class object\n",
    "\n",
    "tts = gTTS(text=\"Hello friends! Welcome to Python.\", lang=\"en\")"
   ]
  },
  {
   "cell_type": "code",
   "execution_count": 4,
   "metadata": {},
   "outputs": [],
   "source": [
    "# save the audio file\n",
    "\n",
    "tts.save('c:\\\\sample\\\\audio.mp3')"
   ]
  },
  {
   "cell_type": "code",
   "execution_count": 7,
   "metadata": {},
   "outputs": [],
   "source": [
    "# Play the audio (translated from the text) directly using pyttsx3. \n",
    "\n",
    "import pyttsx3\n",
    "\n",
    "# Initialize the engine\n",
    "engine = pyttsx3.init()\n",
    "\n",
    "\n",
    "# Set the voice\n",
    "engine.setProperty('rate', 150)\n",
    "engine.setProperty('volume', 1)\n",
    "\n",
    "text=\"\"\"\n",
    "The Global Innovation Index is an annual ranking of countries by their capacity for, and success in, innovation, published by the World Intellectual Property Organization (WIPO). \n",
    "It was started in 2007 by INSEAD and World Business,[1]: 203  a British magazine. Until 2021 it was published by WIPO, in partnership with Cornell University, INSEAD and \n",
    "other organisations and institutions.[2]: 333 [3] It is based on both subjective and objective data derived from several sources, including the International Telecommunication Union, \n",
    "the World Bank and the World Economic Forum.\n",
    "\"\"\"\n",
    "\n",
    "# Speak the text\n",
    "engine.say(text)\n",
    "\n",
    "# Wait for the audio to finish playing\n",
    "engine.runAndWait()"
   ]
  },
  {
   "cell_type": "code",
   "execution_count": 8,
   "metadata": {},
   "outputs": [],
   "source": [
    "voices = engine.getProperty('voices')\n",
    "engine.setProperty('voice', voices[0].id)\n",
    "text = 'Hello, welcome to Python programming'\n",
    "engine.say(text)\n",
    "engine.runAndWait()"
   ]
  }
 ],
 "metadata": {
  "kernelspec": {
   "display_name": "Python 3",
   "language": "python",
   "name": "python3"
  },
  "language_info": {
   "codemirror_mode": {
    "name": "ipython",
    "version": 3
   },
   "file_extension": ".py",
   "mimetype": "text/x-python",
   "name": "python",
   "nbconvert_exporter": "python",
   "pygments_lexer": "ipython3",
   "version": "3.11.10"
  }
 },
 "nbformat": 4,
 "nbformat_minor": 2
}
