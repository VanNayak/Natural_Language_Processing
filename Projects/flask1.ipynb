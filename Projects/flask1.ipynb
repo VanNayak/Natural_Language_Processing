{
 "cells": [
  {
   "cell_type": "code",
   "execution_count": null,
   "metadata": {},
   "outputs": [],
   "source": [
    "# !pip install flask"
   ]
  },
  {
   "cell_type": "code",
   "execution_count": null,
   "metadata": {},
   "outputs": [],
   "source": [
    "from flask import Flask\n",
    "app = Flask(__name__)\n",
    "\n",
    "@app.route('/')\n",
    "def hello_world():\n",
    "    return ('Welcome to AI!')\n",
    "\n",
    "if __name__ == '__main__':\n",
    "    app.run(debug=False)"
   ]
  },
  {
   "cell_type": "code",
   "execution_count": null,
   "metadata": {},
   "outputs": [],
   "source": [
    "from flask import Flask\n",
    "app = Flask(__name__)\n",
    "\n",
    "@app.route('/')\n",
    "def hello_world():\n",
    "    return ('You are accessing the server PC!')\n",
    "\n",
    "if __name__ == '__main__':\n",
    "    app.run(host='192.168.76.243')"
   ]
  },
  {
   "cell_type": "code",
   "execution_count": null,
   "metadata": {},
   "outputs": [],
   "source": [
    "from flask import Flask\n",
    "app = Flask(__name__)\n",
    "\n",
    "@app.route('/')\n",
    "def hello_world():\n",
    "    return ('Welcome to Artificatial Intelligence!')\n",
    "\n",
    "@app.route('/hello')\n",
    "def hello_world1():\n",
    "    return ('Hello Word!')\n",
    "\n",
    "if __name__ == '__main__':\n",
    "    app.run()"
   ]
  },
  {
   "cell_type": "code",
   "execution_count": null,
   "metadata": {},
   "outputs": [],
   "source": [
    "from flask import Flask\n",
    "app = Flask(__name__)\n",
    "\n",
    "@app.route('/')\n",
    "def hello_world():\n",
    "    return ('Welcome to 3rd block!')\n",
    "\n",
    "@app.route('/hello/<name>')\n",
    "def hello_world1(name):\n",
    "    return ('Hello %s' %name)\n",
    "\n",
    "if __name__ == '__main__':\n",
    "    app.run()"
   ]
  },
  {
   "cell_type": "code",
   "execution_count": null,
   "metadata": {},
   "outputs": [],
   "source": [
    "from flask import Flask, url_for, redirect\n",
    "app = Flask(__name__)\n",
    "\n",
    "# @app.route('/')\n",
    "# def index():\n",
    "#     return redirect(url_for('hello', name='admin'))\n",
    "\n",
    "@app.route('/admin')\n",
    "def hello_admin():\n",
    "    return ('Welcome Admin!!!')\n",
    "\n",
    "@app.route('/guest/<guest>')\n",
    "def hello_guest(guest):\n",
    "    return ('Hello %s' % guest)\n",
    "\n",
    "@app.route('/user/<name>')\n",
    "def hello(name):\n",
    "    if name == 'admin':\n",
    "        return redirect(url_for('hello_admin'))\n",
    "    else:\n",
    "        return redirect(url_for('hello_guest', guest=name))\n",
    "\n",
    "if __name__ == '__main__':\n",
    "    app.run()"
   ]
  },
  {
   "cell_type": "code",
   "execution_count": null,
   "metadata": {},
   "outputs": [],
   "source": [
    "<html>\n",
    "    <title>My home page</title>\n",
    "    <body>\n",
    "        <form action = \"http://localhost:5000/hello\" method = \"POST\">\n",
    "            <input type = \"text\" name = \"nm\"/></p>\n",
    "            <input type = \"submit\" value = \"OK\"/></p>\n",
    "        </form>\n",
    "    </body>\n",
    "</html>"
   ]
  },
  {
   "cell_type": "code",
   "execution_count": null,
   "metadata": {},
   "outputs": [],
   "source": [
    "from flask import Flask, url_for, redirect, request, render_template_string\n",
    "app = Flask(__name__)\n",
    "\n",
    "@app.route('/admin')\n",
    "def hello_admin():\n",
    "    return ('Welcome Admin!!!')\n",
    "\n",
    "@app.route('/guest/<guest>')\n",
    "def hello_guest(guest):\n",
    "    return ('Welcome %s' % guest)\n",
    "\n",
    "@app.route('/user/<name>')\n",
    "def hello(name):\n",
    "    if name == 'admin':\n",
    "        return redirect(url_for('hello_admin'))\n",
    "    else:\n",
    "        return redirect(url_for('hello_guest', guest=name))\n",
    "\n",
    "\n",
    "@app.route('/', methods=['GET', 'POST'])\n",
    "def index():\n",
    "    if request.method == 'POST':\n",
    "        name = request.form['name']\n",
    "        return redirect(url_for('hello', name=name))\n",
    "\n",
    "    home_page = '''\n",
    "        <form action=\"/\" method=\"post\">\n",
    "            <input type=\"text\" name=\"name\" placeholder=\"Enter your name\">\n",
    "            <input type=\"submit\" value=\"Submit\">\n",
    "        </form>\n",
    "    '''\n",
    "    return render_template_string(home_page) \n",
    "\n",
    "if __name__ == '__main__':\n",
    "    app.run()\n",
    "    "
   ]
  },
  {
   "cell_type": "code",
   "execution_count": null,
   "metadata": {},
   "outputs": [],
   "source": [
    "from flask import Flask\n",
    "app = Flask(__name__)\n",
    "\n",
    "@app.route('/')\n",
    "def hello_world():\n",
    "    return '''<html>\n",
    "                <title>My Page</title>\n",
    "                <body>\n",
    "                    <h1>Hello World!</h1>\n",
    "                </body>\n",
    "            </html>'''\n",
    "\n",
    "if __name__ == '__main__':\n",
    "    app.run(debug=True)      \n"
   ]
  },
  {
   "cell_type": "code",
   "execution_count": null,
   "metadata": {},
   "outputs": [],
   "source": [
    "from flask import Flask, render_template\n",
    "app = Flask(__name__)\n",
    "\n",
    "@app.route('/')\n",
    "def index():\n",
    "    return render_template('helloword.html')\n",
    "\n",
    "if __name__ == '__main__':\n",
    "    app.run()"
   ]
  },
  {
   "cell_type": "code",
   "execution_count": null,
   "metadata": {},
   "outputs": [],
   "source": [
    "from flask import Flask, url_for, redirect, request, render_template_string\n",
    "app = Flask(__name__)\n",
    "\n",
    "@app.route('/')\n",
    "def student():\n",
    "    return render_template ('homepage.html')\n",
    "\n",
    "@app.route('result', methods=['GET', 'POST'])\n",
    "def result():\n",
    "    if request.method == 'POST':\n",
    "        data = request.form\n",
    "        m1 = request.form['phy']\n",
    "        m2 = request.form['chem']\n",
    "        m3 = request.form['maths']\n",
    "        avg = (m1+m2+m3)/3\n",
    "        temp = {}\n",
    "        temp['name'] = request.form['name']\n",
    "        temp['average'] = avg\n",
    "        return render_template('result.html', result=temp)\n",
    "        \n",
    "if __name__ == '__main__':\n",
    "    app.run()"
   ]
  }
 ],
 "metadata": {
  "kernelspec": {
   "display_name": "Python 3",
   "language": "python",
   "name": "python3"
  },
  "language_info": {
   "codemirror_mode": {
    "name": "ipython",
    "version": 3
   },
   "file_extension": ".py",
   "mimetype": "text/x-python",
   "name": "python",
   "nbconvert_exporter": "python",
   "pygments_lexer": "ipython3",
   "version": "3.11.10"
  }
 },
 "nbformat": 4,
 "nbformat_minor": 2
}
