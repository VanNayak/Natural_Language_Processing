{
 "cells": [
  {
   "cell_type": "markdown",
   "metadata": {},
   "source": [
    "### Transliteration\n",
    "\n",
    "* Transliteration refers to the method of mapping from one system of writing to another based on phonetic similarity.\n",
    "\n",
    "* With this tool, you type in latin letters (d.ga,b,c et.), which are converted to characters that have similar pronunciations in the target language..\n",
    "\n",
    "* For example, in Hindi translieteration, you can type in \"namaste\" (\"नमस्ते\"), which sounds like \"namaste\", A list of candidate translietrations may show for you to select.\n",
    "\n",
    "* Note that \"transliteration\" is different from \"translation\": the conversion is based on the pronunciation, not the meaning."
   ]
  },
  {
   "cell_type": "markdown",
   "metadata": {},
   "source": []
  },
  {
   "cell_type": "markdown",
   "metadata": {},
   "source": [
    "#### Install libraries"
   ]
  },
  {
   "cell_type": "code",
   "execution_count": 1,
   "metadata": {},
   "outputs": [
    {
     "name": "stdout",
     "output_type": "stream",
     "text": [
      "Collecting indic_transliteration\n",
      "  Downloading indic_transliteration-2.3.68-py3-none-any.whl.metadata (1.4 kB)\n",
      "Collecting backports.functools-lru-cache (from indic_transliteration)\n",
      "  Downloading backports.functools_lru_cache-2.0.0-py2.py3-none-any.whl.metadata (3.5 kB)\n",
      "Requirement already satisfied: regex in c:\\users\\dai.studentsdc\\desktop\\4.machinelearning\\.conda\\lib\\site-packages (from indic_transliteration) (2024.11.6)\n",
      "Requirement already satisfied: typer in c:\\users\\dai.studentsdc\\desktop\\4.machinelearning\\.conda\\lib\\site-packages (from indic_transliteration) (0.13.0)\n",
      "Collecting toml (from indic_transliteration)\n",
      "  Downloading toml-0.10.2-py2.py3-none-any.whl.metadata (7.1 kB)\n",
      "Collecting roman (from indic_transliteration)\n",
      "  Downloading roman-4.2-py3-none-any.whl.metadata (3.6 kB)\n",
      "Requirement already satisfied: click>=8.0.0 in c:\\users\\dai.studentsdc\\desktop\\4.machinelearning\\.conda\\lib\\site-packages (from typer->indic_transliteration) (8.1.7)\n",
      "Requirement already satisfied: typing-extensions>=3.7.4.3 in c:\\users\\dai.studentsdc\\desktop\\4.machinelearning\\.conda\\lib\\site-packages (from typer->indic_transliteration) (4.11.0)\n",
      "Requirement already satisfied: shellingham>=1.3.0 in c:\\users\\dai.studentsdc\\desktop\\4.machinelearning\\.conda\\lib\\site-packages (from typer->indic_transliteration) (1.5.4)\n",
      "Requirement already satisfied: rich>=10.11.0 in c:\\users\\dai.studentsdc\\desktop\\4.machinelearning\\.conda\\lib\\site-packages (from typer->indic_transliteration) (13.9.4)\n",
      "Requirement already satisfied: colorama in c:\\users\\dai.studentsdc\\desktop\\4.machinelearning\\.conda\\lib\\site-packages (from click>=8.0.0->typer->indic_transliteration) (0.4.6)\n",
      "Requirement already satisfied: markdown-it-py>=2.2.0 in c:\\users\\dai.studentsdc\\desktop\\4.machinelearning\\.conda\\lib\\site-packages (from rich>=10.11.0->typer->indic_transliteration) (3.0.0)\n",
      "Requirement already satisfied: pygments<3.0.0,>=2.13.0 in c:\\users\\dai.studentsdc\\desktop\\4.machinelearning\\.conda\\lib\\site-packages (from rich>=10.11.0->typer->indic_transliteration) (2.18.0)\n",
      "Requirement already satisfied: mdurl~=0.1 in c:\\users\\dai.studentsdc\\desktop\\4.machinelearning\\.conda\\lib\\site-packages (from markdown-it-py>=2.2.0->rich>=10.11.0->typer->indic_transliteration) (0.1.2)\n",
      "Downloading indic_transliteration-2.3.68-py3-none-any.whl (155 kB)\n",
      "Downloading backports.functools_lru_cache-2.0.0-py2.py3-none-any.whl (6.7 kB)\n",
      "Downloading roman-4.2-py3-none-any.whl (5.5 kB)\n",
      "Downloading toml-0.10.2-py2.py3-none-any.whl (16 kB)\n",
      "Installing collected packages: toml, roman, backports.functools-lru-cache, indic_transliteration\n",
      "Successfully installed backports.functools-lru-cache-2.0.0 indic_transliteration-2.3.68 roman-4.2 toml-0.10.2\n"
     ]
    }
   ],
   "source": [
    "!pip install indic_transliteration"
   ]
  },
  {
   "cell_type": "code",
   "execution_count": 2,
   "metadata": {},
   "outputs": [],
   "source": [
    "from indic_transliteration import sanscript\n",
    "from indic_transliteration.sanscript import transliterate"
   ]
  },
  {
   "cell_type": "code",
   "execution_count": 6,
   "metadata": {},
   "outputs": [],
   "source": [
    "data = 'Rukmini Deiv Nayak'"
   ]
  },
  {
   "cell_type": "code",
   "execution_count": 7,
   "metadata": {},
   "outputs": [
    {
     "name": "stdout",
     "output_type": "stream",
     "text": [
      "றுக்மிநி டேஇவ் ணயக்\n"
     ]
    }
   ],
   "source": [
    "print(transliterate(data, \n",
    "                    sanscript.ITRANS, \n",
    "                    sanscript.TAMIL))"
   ]
  },
  {
   "cell_type": "code",
   "execution_count": 9,
   "metadata": {},
   "outputs": [
    {
     "name": "stdout",
     "output_type": "stream",
     "text": [
      "র়ুক্মিনি ডেইব্ ণযক্\n"
     ]
    }
   ],
   "source": [
    "print(transliterate(data,\n",
    "                   sanscript.ITRANS,\n",
    "                   sanscript.BENGALI))"
   ]
  },
  {
   "cell_type": "code",
   "execution_count": 13,
   "metadata": {},
   "outputs": [
    {
     "name": "stdout",
     "output_type": "stream",
     "text": [
      "Pउणे\n"
     ]
    }
   ],
   "source": [
    "print(transliterate('PuNe',\n",
    "                   sanscript.ITRANS,\n",
    "                   sanscript.DEVANAGARI))"
   ]
  },
  {
   "cell_type": "code",
   "execution_count": 14,
   "metadata": {},
   "outputs": [
    {
     "name": "stdout",
     "output_type": "stream",
     "text": [
      "ਰ਼ੁਕ੍ਮਿਨਿ ਡੇਇਵ੍ ਣਯਕ੍\n"
     ]
    }
   ],
   "source": [
    "print(transliterate(data,\n",
    "                   sanscript.ITRANS,\n",
    "                   sanscript.GURMUKHI))"
   ]
  },
  {
   "cell_type": "code",
   "execution_count": 15,
   "metadata": {},
   "outputs": [
    {
     "name": "stdout",
     "output_type": "stream",
     "text": [
      "ର଼ୁକ୍ମିନି ଡେଇଵ୍ ଣଯକ୍\n"
     ]
    }
   ],
   "source": [
    "print(transliterate(data,\n",
    "                   sanscript.ITRANS,\n",
    "                   sanscript.ORIYA))"
   ]
  },
  {
   "cell_type": "code",
   "execution_count": 20,
   "metadata": {},
   "outputs": [
    {
     "name": "stdout",
     "output_type": "stream",
     "text": [
      "य़श Pआटील\n"
     ]
    }
   ],
   "source": [
    "data = input(\"Enter your name: \")\n",
    "print(transliterate(data,\n",
    "                    sanscript.ITRANS,\n",
    "                    sanscript.DEVANAGARI))"
   ]
  }
 ],
 "metadata": {
  "kernelspec": {
   "display_name": "Python 3",
   "language": "python",
   "name": "python3"
  },
  "language_info": {
   "codemirror_mode": {
    "name": "ipython",
    "version": 3
   },
   "file_extension": ".py",
   "mimetype": "text/x-python",
   "name": "python",
   "nbconvert_exporter": "python",
   "pygments_lexer": "ipython3",
   "version": "3.11.10"
  }
 },
 "nbformat": 4,
 "nbformat_minor": 2
}
