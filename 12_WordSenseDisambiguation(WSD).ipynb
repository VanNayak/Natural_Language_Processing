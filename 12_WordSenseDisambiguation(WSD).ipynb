{
  "nbformat": 4,
  "nbformat_minor": 0,
  "metadata": {
    "colab": {
      "provenance": [],
      "authorship_tag": "ABX9TyMQ6rAfskIymeHoTu9Zbwcy"
    },
    "kernelspec": {
      "name": "python3",
      "display_name": "Python 3"
    },
    "language_info": {
      "name": "python"
    }
  },
  "cells": [
    {
      "cell_type": "markdown",
      "source": [
        "Word Sense Disambiguation (WSD)\n",
        "\n",
        "* Word Sense Disambiguation (WSD) is a crucial task in Natural Language Processing (NLP) that deals with identifying the specific meaning of a word iwthin a particular context.\n",
        "\n",
        "* Many words in a language have multiple meanings, and WSD aims to pinpoint the intended sense based on the surrounding words and the overall sentence structure"
      ],
      "metadata": {
        "id": "9SK9ZliRz03D"
      }
    },
    {
      "cell_type": "markdown",
      "source": [
        "* Lesk Algorithm: This classic approch leverages pre-defined dictionarieds with information about word senses and their definitions. It compares the overlap between the definitions of the target wrod's senses and the definitions of surrounding words in the sentence. The sense with the most overlap is chosen as the most likely meaning.\n",
        "\n",
        "* Gloss Overlap: Similar to Lesk, this method compares the words used in the definitions of the target word's senses with the words in the surrounding context. The sense with the highest number of matching words is considered the most likely meaning."
      ],
      "metadata": {
        "id": "eFAzb0KW5EUt"
      }
    },
    {
      "cell_type": "markdown",
      "source": [
        "#### Import the libraries"
      ],
      "metadata": {
        "id": "ih8aNnm56XVX"
      }
    },
    {
      "cell_type": "code",
      "execution_count": null,
      "metadata": {
        "id": "tGdf_fYZz0Ql",
        "colab": {
          "base_uri": "https://localhost:8080/"
        },
        "outputId": "53101769-8130-4c1b-e32d-19592c6863bf"
      },
      "outputs": [
        {
          "output_type": "stream",
          "name": "stderr",
          "text": [
            "[nltk_data] Downloading package punkt_tab to /root/nltk_data...\n",
            "[nltk_data]   Package punkt_tab is already up-to-date!\n",
            "[nltk_data] Downloading package wordnet to /root/nltk_data...\n",
            "[nltk_data]   Package wordnet is already up-to-date!\n"
          ]
        },
        {
          "output_type": "execute_result",
          "data": {
            "text/plain": [
              "True"
            ]
          },
          "metadata": {},
          "execution_count": 38
        }
      ],
      "source": [
        "import nltk\n",
        "from nltk.tokenize import word_tokenize\n",
        "from nltk.wsd import lesk\n",
        "from nltk.corpus import wordnet\n",
        "nltk.download('punkt_tab')\n",
        "nltk.download('wordnet')"
      ]
    },
    {
      "cell_type": "code",
      "source": [
        "a1 = lesk(word_tokenize('We have to jam the signal around us.'), 'jam')"
      ],
      "metadata": {
        "id": "iOSDdviV6mby"
      },
      "execution_count": null,
      "outputs": []
    },
    {
      "cell_type": "code",
      "source": [
        "a1.definition()"
      ],
      "metadata": {
        "colab": {
          "base_uri": "https://localhost:8080/",
          "height": 35
        },
        "id": "aSXkG9mJ683v",
        "outputId": "6750818d-c9a6-42db-e9ed-504bd103c183"
      },
      "execution_count": null,
      "outputs": [
        {
          "output_type": "execute_result",
          "data": {
            "text/plain": [
              "'deliberate radiation or reflection of electromagnetic energy for the purpose of disrupting enemy use of electronic devices or systems'"
            ],
            "application/vnd.google.colaboratory.intrinsic+json": {
              "type": "string"
            }
          },
          "metadata": {},
          "execution_count": 40
        }
      ]
    },
    {
      "cell_type": "code",
      "source": [
        "a2 = lesk(word_tokenize('I am stuck in a heavy traffic jam'), 'jam')"
      ],
      "metadata": {
        "id": "Ws2wEwMR7EQO"
      },
      "execution_count": null,
      "outputs": []
    },
    {
      "cell_type": "code",
      "source": [
        "a2.definition()"
      ],
      "metadata": {
        "colab": {
          "base_uri": "https://localhost:8080/",
          "height": 35
        },
        "id": "QbGiVx7P7Ms-",
        "outputId": "712fe236-1320-45d0-db43-f0919b4dd27b"
      },
      "execution_count": null,
      "outputs": [
        {
          "output_type": "execute_result",
          "data": {
            "text/plain": [
              "'get stuck and immobilized'"
            ],
            "application/vnd.google.colaboratory.intrinsic+json": {
              "type": "string"
            }
          },
          "metadata": {},
          "execution_count": 42
        }
      ]
    },
    {
      "cell_type": "code",
      "source": [
        "a2.examples()"
      ],
      "metadata": {
        "colab": {
          "base_uri": "https://localhost:8080/"
        },
        "id": "B0FadzdG70xb",
        "outputId": "384d28cb-dee2-42ff-9441-61be1be80ca9"
      },
      "execution_count": null,
      "outputs": [
        {
          "output_type": "execute_result",
          "data": {
            "text/plain": [
              "['the mechanism jammed']"
            ]
          },
          "metadata": {},
          "execution_count": 43
        }
      ]
    },
    {
      "cell_type": "code",
      "source": [
        "a1.hyponyms()"
      ],
      "metadata": {
        "colab": {
          "base_uri": "https://localhost:8080/"
        },
        "id": "srMNVIa674Hc",
        "outputId": "ed281322-48d7-434d-fc6d-1188a10d09f3"
      },
      "execution_count": null,
      "outputs": [
        {
          "output_type": "execute_result",
          "data": {
            "text/plain": [
              "[Synset('spot_jamming.n.01'), Synset('barrage_jamming.n.01')]"
            ]
          },
          "metadata": {},
          "execution_count": 44
        }
      ]
    },
    {
      "cell_type": "code",
      "source": [
        "a2.hyponyms()"
      ],
      "metadata": {
        "colab": {
          "base_uri": "https://localhost:8080/"
        },
        "id": "Ihx50OBo77uS",
        "outputId": "34205114-8250-49a2-ddda-cd6f1abf603a"
      },
      "execution_count": null,
      "outputs": [
        {
          "output_type": "execute_result",
          "data": {
            "text/plain": [
              "[]"
            ]
          },
          "metadata": {},
          "execution_count": 45
        }
      ]
    },
    {
      "cell_type": "code",
      "source": [
        "x = wordnet.synsets('jam')"
      ],
      "metadata": {
        "id": "v8A91qyO8ANX"
      },
      "execution_count": null,
      "outputs": []
    },
    {
      "cell_type": "code",
      "source": [
        "x"
      ],
      "metadata": {
        "colab": {
          "base_uri": "https://localhost:8080/"
        },
        "id": "JQIvnhDS8HkF",
        "outputId": "7f779220-6b0a-4335-e210-33739c6454c2"
      },
      "execution_count": null,
      "outputs": [
        {
          "output_type": "execute_result",
          "data": {
            "text/plain": [
              "[Synset('jam.n.01'),\n",
              " Synset('fix.n.01'),\n",
              " Synset('crush.n.02'),\n",
              " Synset('jamming.n.01'),\n",
              " Synset('throng.v.01'),\n",
              " Synset('jam.v.02'),\n",
              " Synset('jam.v.03'),\n",
              " Synset('jam.v.04'),\n",
              " Synset('jam.v.05'),\n",
              " Synset('jam.v.06'),\n",
              " Synset('obstruct.v.02')]"
            ]
          },
          "metadata": {},
          "execution_count": 47
        }
      ]
    },
    {
      "cell_type": "code",
      "source": [
        "a3 = lesk(word_tokenize('I like my bread toasted and served with jam and a cup of black coffee'), 'jam')"
      ],
      "metadata": {
        "id": "tv3OfTpu7RC8"
      },
      "execution_count": null,
      "outputs": []
    },
    {
      "cell_type": "code",
      "source": [
        "a3.definition()"
      ],
      "metadata": {
        "colab": {
          "base_uri": "https://localhost:8080/",
          "height": 35
        },
        "id": "u6znY3HJ7as3",
        "outputId": "5b380fa5-7e9b-42ac-cce5-bbb334a1b04a"
      },
      "execution_count": null,
      "outputs": [
        {
          "output_type": "execute_result",
          "data": {
            "text/plain": [
              "'interfere with or prevent the reception of signals'"
            ],
            "application/vnd.google.colaboratory.intrinsic+json": {
              "type": "string"
            }
          },
          "metadata": {},
          "execution_count": 49
        }
      ]
    },
    {
      "cell_type": "code",
      "source": [
        "a4 = lesk(word_tokenize('It was a good catch by the player.'), 'catch')\n",
        "a4.definition()"
      ],
      "metadata": {
        "colab": {
          "base_uri": "https://localhost:8080/",
          "height": 35
        },
        "id": "Fz1660hA8e2C",
        "outputId": "fc22ab41-2ea3-4d4c-9d99-f9481d191769"
      },
      "execution_count": null,
      "outputs": [
        {
          "output_type": "execute_result",
          "data": {
            "text/plain": [
              "'discover or come upon accidentally, suddenly, or unexpectedly; catch somebody doing something or in a certain state'"
            ],
            "application/vnd.google.colaboratory.intrinsic+json": {
              "type": "string"
            }
          },
          "metadata": {},
          "execution_count": 50
        }
      ]
    },
    {
      "cell_type": "code",
      "source": [
        "a5 = lesk(word_tokenize('You should catch that opportunity'), 'catch')\n",
        "a5.definition()"
      ],
      "metadata": {
        "colab": {
          "base_uri": "https://localhost:8080/",
          "height": 35
        },
        "id": "xVhVzQ_M8zOk",
        "outputId": "489a7537-cf29-4ff6-e71d-2ca7791676d7"
      },
      "execution_count": null,
      "outputs": [
        {
          "output_type": "execute_result",
          "data": {
            "text/plain": [
              "'catch up with and possibly overtake'"
            ],
            "application/vnd.google.colaboratory.intrinsic+json": {
              "type": "string"
            }
          },
          "metadata": {},
          "execution_count": 51
        }
      ]
    },
    {
      "cell_type": "code",
      "source": [
        "d1 = lesk(word_tokenize('he likes flowers.'), 'like')\n",
        "d1.definition()"
      ],
      "metadata": {
        "colab": {
          "base_uri": "https://localhost:8080/",
          "height": 35
        },
        "id": "qUWJHqxk9GS5",
        "outputId": "187619c0-2de8-443b-8d5b-8ba64a3bfec1"
      },
      "execution_count": null,
      "outputs": [
        {
          "output_type": "execute_result",
          "data": {
            "text/plain": [
              "'prefer or wish to do something'"
            ],
            "application/vnd.google.colaboratory.intrinsic+json": {
              "type": "string"
            }
          },
          "metadata": {},
          "execution_count": 52
        }
      ]
    },
    {
      "cell_type": "code",
      "source": [
        "d1 = lesk(word_tokenize('The association is like a bad combination.'), 'like')\n",
        "d1.definition()"
      ],
      "metadata": {
        "colab": {
          "base_uri": "https://localhost:8080/",
          "height": 35
        },
        "id": "rLE5xj6F9SkN",
        "outputId": "c2eb3cb3-de38-4f8f-dec1-a24013f4c619"
      },
      "execution_count": null,
      "outputs": [
        {
          "output_type": "execute_result",
          "data": {
            "text/plain": [
              "'a kind of person'"
            ],
            "application/vnd.google.colaboratory.intrinsic+json": {
              "type": "string"
            }
          },
          "metadata": {},
          "execution_count": 53
        }
      ]
    },
    {
      "cell_type": "code",
      "source": [
        "sentence1 = 'The dog started to  bark loudly in the yard'\n",
        "sentence2 = \"The tree's bark was rough and peeling off\""
      ],
      "metadata": {
        "id": "kjdFb6eQ-oot"
      },
      "execution_count": null,
      "outputs": []
    },
    {
      "cell_type": "code",
      "source": [
        "d2 = lesk(word_tokenize(sentence1), 'bark')\n",
        "d2.definition()"
      ],
      "metadata": {
        "colab": {
          "base_uri": "https://localhost:8080/",
          "height": 35
        },
        "id": "IyJP269s_L88",
        "outputId": "a912e8d1-f6db-43cc-8da9-19c42ec8e779"
      },
      "execution_count": null,
      "outputs": [
        {
          "output_type": "execute_result",
          "data": {
            "text/plain": [
              "'a noise resembling the bark of a dog'"
            ],
            "application/vnd.google.colaboratory.intrinsic+json": {
              "type": "string"
            }
          },
          "metadata": {},
          "execution_count": 56
        }
      ]
    },
    {
      "cell_type": "code",
      "source": [
        "d3 = lesk(word_tokenize(sentence2), 'bark')\n",
        "d3.definition()"
      ],
      "metadata": {
        "colab": {
          "base_uri": "https://localhost:8080/",
          "height": 35
        },
        "id": "nJhDNbe5_cAg",
        "outputId": "d5a5e26a-5663-48fc-8eca-3d78d6e9e475"
      },
      "execution_count": null,
      "outputs": [
        {
          "output_type": "execute_result",
          "data": {
            "text/plain": [
              "'remove the bark of a tree'"
            ],
            "application/vnd.google.colaboratory.intrinsic+json": {
              "type": "string"
            }
          },
          "metadata": {},
          "execution_count": 57
        }
      ]
    }
  ]
}