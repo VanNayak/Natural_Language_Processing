{
 "cells": [
  {
   "cell_type": "markdown",
   "metadata": {},
   "source": [
    "### Assignment-1 / Question-1\n",
    "sent = 'They told that their ages are 23, 25 and 29 respectively.\n",
    "1. Find the average of ages.\n",
    "2. Count total number of words starts with 't' / 'T'\n",
    "3. Count total punctuation symbols.\n",
    "4. Print the words in capital letter which ends with 'd'\n",
    "5. Merge all the words and print (no punctuations)\n"
   ]
  },
  {
   "cell_type": "code",
   "execution_count": 1,
   "metadata": {},
   "outputs": [],
   "source": [
    "import re\n",
    "import string"
   ]
  },
  {
   "cell_type": "code",
   "execution_count": 2,
   "metadata": {},
   "outputs": [],
   "source": [
    "# Input sentence\n",
    "sent = 'They told that their ages are 23, 25 and 29 respectively.'"
   ]
  },
  {
   "cell_type": "code",
   "execution_count": 3,
   "metadata": {},
   "outputs": [],
   "source": [
    "# Task 1: Find the average of ages.\n",
    "# Extracting the ages using regex\n",
    "ages = list(map(int, re.findall(r'\\b\\d+\\b', sent)))\n",
    "average_age = sum(ages) / len(ages)"
   ]
  },
  {
   "cell_type": "code",
   "execution_count": 4,
   "metadata": {},
   "outputs": [],
   "source": [
    "# Task 2: Count total number of words that start with 't' / 'T'.\n",
    "words = sent.split()\n",
    "count_t_words = sum(1 for word in words if word.lower().startswith('t'))"
   ]
  },
  {
   "cell_type": "code",
   "execution_count": 5,
   "metadata": {},
   "outputs": [],
   "source": [
    "# Task 3: Count total punctuation symbols.\n",
    "punctuation_count = sum(1 for char in sent if char in string.punctuation)"
   ]
  },
  {
   "cell_type": "code",
   "execution_count": 6,
   "metadata": {},
   "outputs": [],
   "source": [
    "# Task 4: Print the words in capital letter which end with 'd'.\n",
    "capitalized_words = [word.upper() for word in words if word.endswith('d')]"
   ]
  },
  {
   "cell_type": "code",
   "execution_count": 8,
   "metadata": {},
   "outputs": [],
   "source": [
    "# Task 5: Merge all the words and print (no punctuations).\n",
    "# Remove punctuation symbols and join words\n",
    "cleaned_sentence = re.sub(r'[^\\w\\s]', '', sent)\n",
    "merged_sentence = ' '.join(cleaned_sentence.split())"
   ]
  },
  {
   "cell_type": "code",
   "execution_count": 9,
   "metadata": {},
   "outputs": [
    {
     "name": "stdout",
     "output_type": "stream",
     "text": [
      "1. Average of ages: 25.666666666666668\n",
      "2. Count of words starting with 't' or 'T': 4\n",
      "3. Total punctuation symbols: 2\n",
      "4. Words in capital letter ending with 'd': TOLD, AND\n",
      "5. Merged sentence (no punctuations): They told that their ages are 23 25 and 29 respectively\n"
     ]
    }
   ],
   "source": [
    "# Output results\n",
    "print(f\"1. Average of ages: {average_age}\")\n",
    "print(f\"2. Count of words starting with 't' or 'T': {count_t_words}\")\n",
    "print(f\"3. Total punctuation symbols: {punctuation_count}\")\n",
    "print(f\"4. Words in capital letter ending with 'd': {', '.join(capitalized_words)}\")\n",
    "print(f\"5. Merged sentence (no punctuations): {merged_sentence}\")\n"
   ]
  },
  {
   "cell_type": "markdown",
   "metadata": {},
   "source": [
    "### Assignment-1 / Question-2\n",
    "\n",
    "1. Open the wikipedia page of Indian flag and perform following analysis\n",
    "2. Count total number of Words\n",
    "3. Count percentage of punctuation marks\n",
    "4. Print total number of lines\n",
    "5. How many words are in title case?\n",
    "6. Remove the numbers and print the text\n"
   ]
  },
  {
   "cell_type": "code",
   "execution_count": null,
   "metadata": {},
   "outputs": [],
   "source": [
    "!pip install wikipedia\n",
    "\n",
    "# import string\n",
    "# import nltk\n",
    "# nltk.download('punkt')"
   ]
  },
  {
   "cell_type": "code",
   "execution_count": null,
   "metadata": {},
   "outputs": [],
   "source": [
    "# Fetch the Wikipedia page for the Indian flag\n",
    "text = wikipedia.page(\"Flag_of_India\").content"
   ]
  },
  {
   "cell_type": "code",
   "execution_count": null,
   "metadata": {},
   "outputs": [],
   "source": [
    "# 1. Count total number of words\n",
    "words = nltk.word_tokenize(text)\n",
    "total_words = len(words)"
   ]
  },
  {
   "cell_type": "code",
   "execution_count": null,
   "metadata": {},
   "outputs": [],
   "source": [
    "# 2. Count percentage of punctuation marks\n",
    "punctuations = [word for word in words if word in string.punctuation]\n",
    "punctuation_percentage = (len(punctuations) / total_words) * 100 if total_words > 0 else 0"
   ]
  },
  {
   "cell_type": "code",
   "execution_count": null,
   "metadata": {},
   "outputs": [],
   "source": [
    "# 3. Print total number of lines\n",
    "lines = text.split('\\n')\n",
    "total_lines = len(lines)"
   ]
  },
  {
   "cell_type": "code",
   "execution_count": null,
   "metadata": {},
   "outputs": [],
   "source": [
    "# 4. How many words are in title case?\n",
    "title_case_words = [word for word in words if word.istitle()]\n",
    "title_case_count = len(title_case_words)"
   ]
  },
  {
   "cell_type": "code",
   "execution_count": null,
   "metadata": {},
   "outputs": [],
   "source": [
    "# 5. Remove numbers and print the text\n",
    "text_without_numbers = ''.join([char for char in text if not char.isdigit()])"
   ]
  },
  {
   "cell_type": "code",
   "execution_count": null,
   "metadata": {},
   "outputs": [],
   "source": [
    "# Print the results\n",
    "print(f\"Total number of words: {total_words}\")\n",
    "print(f\"Percentage of punctuation marks: {punctuation_percentage:.2f}%\")\n",
    "print(f\"Total number of lines: {total_lines}\")\n",
    "print(f\"Number of words in title case: {title_case_count}\")\n",
    "print(\"Text without numbers:\")\n",
    "print(text_without_numbers[:1000])  # Print first 1000 characters of the text without numbers\n"
   ]
  }
 ],
 "metadata": {
  "kernelspec": {
   "display_name": "Python 3",
   "language": "python",
   "name": "python3"
  },
  "language_info": {
   "codemirror_mode": {
    "name": "ipython",
    "version": 3
   },
   "file_extension": ".py",
   "mimetype": "text/x-python",
   "name": "python",
   "nbconvert_exporter": "python",
   "pygments_lexer": "ipython3",
   "version": "3.12.6"
  }
 },
 "nbformat": 4,
 "nbformat_minor": 2
}
