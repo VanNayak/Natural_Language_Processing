{
 "cells": [
  {
   "cell_type": "markdown",
   "metadata": {},
   "source": [
    "#### Pixel\n",
    "- In digital imagine, a pixel (short for \"picture element\") is the smallest addressable element in a raster the smallest addressable element in a dot matrix display device.\n",
    "- In simpler terms, it is the basic building block any digital image  you see on screens, smartphones, computers, TVs, etc."
   ]
  },
  {
   "cell_type": "markdown",
   "metadata": {},
   "source": []
  }
 ],
 "metadata": {
  "language_info": {
   "name": "python"
  }
 },
 "nbformat": 4,
 "nbformat_minor": 2
}
